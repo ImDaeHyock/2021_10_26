{
 "cells": [
  {
   "cell_type": "code",
   "execution_count": 164,
   "id": "d3aecd82",
   "metadata": {},
   "outputs": [
    {
     "name": "stdout",
     "output_type": "stream",
     "text": [
      "문자열 입력안녕 하세요\n",
      "입력 받은 문자: 안녕 하세요\n",
      "입력 받은 문자열의 길이 6\n"
     ]
    }
   ],
   "source": [
    "#키보드로부터 입력 받아 해당 문자열을 출력하고 길이를 구하시고\n",
    "#input()과 print(), len() 함수 응용\n",
    "\n",
    "str = input(\"문자열 입력\")\n",
    "\n",
    "print(\"입력 받은 문자:\", str)\n",
    "print(\"입력 받은 문자열의 길이\", len(str))  #blank도 문자열 길이에 포함됨."
   ]
  },
  {
   "cell_type": "code",
   "execution_count": 8,
   "id": "1af6c7cd",
   "metadata": {},
   "outputs": [
    {
     "name": "stdout",
     "output_type": "stream",
     "text": [
      "10\n",
      "입력받은 문자:안녕하세요,문자열의 길이는: 5\n"
     ]
    }
   ],
   "source": [
    "#\"문자열입력\".format()\n",
    "#format : {}에 값을 대입\n",
    "print(\"{}\".format(10))  #10 이라는 문자열 출력\n",
    "\n",
    "print(\"입력받은 문자:{},문자열의 길이는: {}\".format(str,len(str)))"
   ]
  },
  {
   "cell_type": "code",
   "execution_count": 12,
   "id": "ca43be0b",
   "metadata": {},
   "outputs": [
    {
     "name": "stdout",
     "output_type": "stream",
     "text": [
      "52    52         52 00052 -0052\n"
     ]
    }
   ],
   "source": [
    "#정수\n",
    "\n",
    "output_a = \"{:d}\".format(52)\n",
    "output_b = \"{:5d}\".format(52)\n",
    "output_c = \"{:10d}\".format(52)\n",
    "output_d = \"{:05d}\".format(52)\n",
    "output_e = \"{:05d}\".format(-52)\n",
    "\n",
    "print(output_a,output_b,output_c, output_d, output_e)"
   ]
  },
  {
   "cell_type": "code",
   "execution_count": 14,
   "id": "920d9acc",
   "metadata": {},
   "outputs": [
    {
     "name": "stdout",
     "output_type": "stream",
     "text": [
      "+52\n",
      "-52\n",
      " 52\n",
      "-52\n"
     ]
    }
   ],
   "source": [
    "num_1 = 52\n",
    "print(\"{:+d}\".format(num_1))\n",
    "print(\"{:+d}\".format(num_1*-1))\n",
    "print(\"{: d}\".format(num_1)) #양수는 부호 안 붙임, d 앞에 블랭크는 부호자리\n",
    "print(\"{: d}\".format(num_1*-1)) #음수는 부호 붙임\n"
   ]
  },
  {
   "cell_type": "code",
   "execution_count": 18,
   "id": "4fa1e75d",
   "metadata": {},
   "outputs": [
    {
     "name": "stdout",
     "output_type": "stream",
     "text": [
      "  +52\n",
      "  -52\n",
      "+  52\n",
      "-  52\n",
      "+0052\n",
      "-0052\n"
     ]
    }
   ],
   "source": [
    "#조합하기\n",
    "print(\"{:+5d}\".format(num_1))   #+52\n",
    "print(\"{:+5d}\".format(num_1*-1))  #-52\n",
    "print(\"{:=+5d}\".format(num_1))    #+ 52\n",
    "print(\"{:=+5d}\".format(num_1*-1)) #- 52\n",
    "print(\"{:=+05d}\".format(num_1))    # +0052\n",
    "print(\"{:=+05d}\".format(num_1*-1)) # -0052"
   ]
  },
  {
   "cell_type": "code",
   "execution_count": 23,
   "id": "29392b60",
   "metadata": {},
   "outputs": [
    {
     "name": "stdout",
     "output_type": "stream",
     "text": [
      "52.273000\n",
      "      52.273000\n",
      "     +52.273000\n",
      "+0000052.273000\n",
      "          52.27\n",
      "10\n"
     ]
    }
   ],
   "source": [
    "#부동 소수점 출력 {:f}\n",
    "num_f = 52.273\n",
    "print(\"{:f}\".format(num_f)) #52.273 뒤에 0이 10자리 수에 맞게 붙음\n",
    "print(\"{:15f}\".format(num_f)) #전체를 표현하는 자리수가 15\n",
    "print(\"{:+15f}\".format(num_f)) \n",
    "print(\"{:+015f}\".format(num_f))\n",
    "#소수점 미만 표현 자리수 지점\n",
    "print(\"{:15.2f}\".format(num_f)) #전체 표현 자리수는 15, 소수점 미만 2자리 \n",
    "\n",
    "#의미 없는 소수점 제거하기\n",
    "print(\"{:g}\".format(10.0)) #10 출력\n",
    "\n",
    " "
   ]
  },
  {
   "cell_type": "code",
   "execution_count": 36,
   "id": "86a2955b",
   "metadata": {},
   "outputs": [
    {
     "name": "stdout",
     "output_type": "stream",
     "text": [
      "   HELLO WORLD !!   \n",
      "   hello world !!   \n",
      "/ Hello World !! /\n",
      "/    Hello World !! /\n",
      "/ Hello World !!    /\n",
      "hello world !!\n",
      "HELLO WORLD !!\n"
     ]
    }
   ],
   "source": [
    "# upper(), lower(), strip(): 공백 제거   **문자열.함수\n",
    "str_a = \"   Hello World !!   \"\n",
    "print(str_a.upper())  #대문자로 출력\n",
    "print(str_a.lower())  #소문자로 출력\n",
    "print('/',str_a.strip(),'/')  #양쪽 공백제거\n",
    "print('/',str_a.rstrip(),'/')  #오른쪽 공백제거\n",
    "print('/',str_a.lstrip(),'/')  #왼쪽 공백제거\n",
    "\n",
    "#소문자로 바꿔서 공백 제거 후 대문자\n",
    "cap = str_a.lower().strip()\n",
    "print(cap)\n",
    "print(cap.upper())\n"
   ]
  },
  {
   "cell_type": "code",
   "execution_count": 39,
   "id": "b5a73d34",
   "metadata": {},
   "outputs": [
    {
     "name": "stdout",
     "output_type": "stream",
     "text": [
      "True\n",
      "True\n"
     ]
    }
   ],
   "source": [
    "#문자열 구성 파악하기 is함수명()  알고 싶은 조건에 문자열이 맞는지 아닌지 확인하는 과정\n",
    "print(\"tranlate\".isalnum())   #true\n",
    "print(\"10\".isdigit())           #true\n"
   ]
  },
  {
   "cell_type": "code",
   "execution_count": 56,
   "id": "06678673",
   "metadata": {},
   "outputs": [
    {
     "name": "stdout",
     "output_type": "stream",
     "text": [
      "시작위치:4, 마지막위치:9,Hello\n",
      "Hello Python\n",
      "문장을 입력하세요:안녕하세요 굳모닝\n",
      "안녕하세요\n"
     ]
    }
   ],
   "source": [
    "#find(), rfind() 는 찾고자 하는 문자열의 위치(index)를 반환하는 함수이다\n",
    "\n",
    "input_str = \"aaa HelloHello Python\"   #처음 나오는 Hello를 추출해서 출력\n",
    "start_p = input_str.find(\"Hello\")\n",
    "end_p = input_str.rfind(\"Hello\")\n",
    "\n",
    "print(\"시작위치:{}, 마지막위치:{},{}\".format(start_p, end_p, input_str[start_p:end_p]))\n",
    "\n",
    "#마지막 위치의 Hello부터 뒤에 있는 문자 모두 출력\n",
    "print(input_str[end_p:])\n",
    "\n",
    "#키보드에서 공백 포함해서 문자열을 입력 받아 \n",
    "#처음 공백이 나오는 위치까지의 문자만 출력\n",
    "input_str1 = input(\"문장을 입력하세요:\")\n",
    "start_p1 = input_str1.find(\" \")\n",
    "print(input_str1[:start_p1])\n"
   ]
  },
  {
   "cell_type": "code",
   "execution_count": 61,
   "id": "09deb8cb",
   "metadata": {},
   "outputs": [
    {
     "name": "stdout",
     "output_type": "stream",
     "text": [
      "문자열 입력>안녕하세요 굳모닝\n",
      "안녕하세요 굳모닝\n",
      "\n",
      "안녕하세요\n"
     ]
    }
   ],
   "source": [
    "#키보드에서 공백 포함해서 문자열을 입력 받아 \n",
    "#처음 공백이 나오는 위치까지의 문자만 출력\n",
    "input_str = input(\"문자열 입력>\")\n",
    "\n",
    "print(input_str); print()\n",
    "print(input_str[ : input_str.find(\" \")])"
   ]
  },
  {
   "cell_type": "code",
   "execution_count": 71,
   "id": "7a21bf04",
   "metadata": {},
   "outputs": [
    {
     "name": "stdout",
     "output_type": "stream",
     "text": [
      "['10', '20', '30', '40', 'test', 'abcd']\n",
      "['10', '20 30', '40', 'test', 'abcd']\n",
      "input data >test 1234 abcd\n",
      "test 1234 abcd \t 2번째 입력자료: 1234\n"
     ]
    }
   ],
   "source": [
    "# 문자열 자르기, 문자열.split()\n",
    "a_str = \"10 20 30 40 test abcd\"\n",
    "print(a_str.split())\n",
    "b_str = \"10,20 30,40,test,abcd\"\n",
    "print(b_str.split(\",\"))\n",
    "\n",
    "#키보드로부터 데이터를 입력받아 공백으로 데이터를 분리하고 \n",
    "#2번째 입력된 자료를 출력하세요\n",
    "#a b c 10 30 => b를 출력\n",
    "input_str = input(\"input data >\")\n",
    "input_split = input_str.split( )\n",
    "print(input_str, '\\t 2번째 입력자료:',input_split[1] )"
   ]
  },
  {
   "cell_type": "code",
   "execution_count": 72,
   "id": "13d5d780",
   "metadata": {},
   "outputs": [
    {
     "name": "stdout",
     "output_type": "stream",
     "text": [
      "False\n",
      "True\n",
      "True\n",
      "False\n",
      "True\n",
      "False\n",
      "True\n",
      "False\n",
      "False\n",
      "False\n",
      "True\n",
      "True\n",
      "True\n",
      "False\n",
      "True\n"
     ]
    }
   ],
   "source": [
    "#조건문 활용, 비교 연산자를 통해서 T/F를 반환\n",
    "# and, or, not, ==, !=, >, <, <=, >=\n",
    "a = 10; b = 20\n",
    "print(a==b)  #False\n",
    "print(a!=b)  #True\n",
    "print(a < b) #True\n",
    "print(a > b) #False\n",
    "print(a <= b) #True\n",
    "print(a >= b) #False\n",
    "print(a==10 and b==20) #True\n",
    "print(a!=10 and b==20) #False\n",
    "print(a==10 and b!=20) #False\n",
    "print(a!=10 and b!=20) #False\n",
    "print(a==10 or b==20) #True\n",
    "print(a!=10 or b==20) #True\n",
    "print(a==10 or b!=20) #True\n",
    "print(a!=10 or b!=20) #False\n",
    "print(not ( a != 10 or b != 20)) #True\n",
    "\n"
   ]
  },
  {
   "cell_type": "code",
   "execution_count": 85,
   "id": "0dd773e9",
   "metadata": {},
   "outputs": [
    {
     "name": "stdout",
     "output_type": "stream",
     "text": [
      "if 문장 실행\n",
      "숫자를 입력하세요 > 4\n",
      "input_num : +0004\n",
      "end\n"
     ]
    }
   ],
   "source": [
    "#if 조건식:\n",
    "#   들여쓰기\n",
    "\n",
    "if True:\n",
    "    print(\"if 문장 실행\")   #실행됨\n",
    "if False:\n",
    "    print(\"if False 실행\") #실행되지 않음\n",
    "    \n",
    "# 정수를 입력받아 10보다 작으면 입력된 값 출력\n",
    "#1. 정수입력 받음\n",
    "#2. 숫자인지 확인 .isdecimal()\n",
    "#3. 숫자이면 문자를 숫자로 변경\n",
    "#4. 10보다 작으면 출력\n",
    "\n",
    "input_num = input(\"숫자를 입력하세요 > \")\n",
    "if input_num.isdecimal:\n",
    "    input_num = int(input_num)\n",
    "    if input_num < 10:\n",
    "        print(\"input_num : {:+05d}\".format(input_num))\n",
    "        \n",
    "print(\"end\")"
   ]
  },
  {
   "cell_type": "code",
   "execution_count": 91,
   "id": "9af5bbe9",
   "metadata": {},
   "outputs": [
    {
     "name": "stdout",
     "output_type": "stream",
     "text": [
      "숫자를 입력하세요: -1\n",
      "음수입니다\n",
      "a는 False\n"
     ]
    }
   ],
   "source": [
    "#숫자를 입력받아 실수로 변환한 후 0보다 \n",
    "#0보다 크면 양수, 0보다 작으면 음수, 0이면 'zero'출력 하세요\n",
    "\n",
    "input_num = input(\"숫자를 입력하세요: \")\n",
    "if input_num.isdecimal:\n",
    "    input_num = float(input_num)\n",
    "    if input_num > 0:                              #이 들여쓰기로 범주가 결정된다\n",
    "        print(\"양수입니다\")\n",
    "if input_num < 0:\n",
    "    print(\"음수입니다\")\n",
    "if input_num == 0:    #if not input_num: 숫자인 경우 0이면 False, 문자는 None인 경우 False\n",
    "    print(\"zero\")\n",
    "a = ''                #문자가 None인 경우\n",
    "if not a:             #a가 none임에 false지만 앞에 not이 붙어 if문이 true가 되어 아래 print가 된거임\n",
    "    print(\"a는 False\")"
   ]
  },
  {
   "cell_type": "code",
   "execution_count": 95,
   "id": "4e1a9745",
   "metadata": {},
   "outputs": [],
   "source": [
    "#날짜 시간 관련 함수를 사용하기 위해서 datetime이라는 모듈 가져오기\n",
    "import datetime   # import를 먼저 해야 모듈을 이용해\n",
    "                   # 아래를 사용할 수 있다."
   ]
  },
  {
   "cell_type": "code",
   "execution_count": 96,
   "id": "3be61f28",
   "metadata": {},
   "outputs": [
    {
     "name": "stdout",
     "output_type": "stream",
     "text": [
      "2021년 10월 29일 14시 11분 36초\n"
     ]
    }
   ],
   "source": [
    "now = datetime.datetime.now()  #모듈명.함수명\n",
    "\n",
    "print(\"{}년 {}월 {}일 {}시 {}분 {}초\".format(\n",
    "    now.year, now.month, now.day,now.hour, now.minute, now.second)\n",
    "     )"
   ]
  },
  {
   "cell_type": "code",
   "execution_count": 101,
   "id": "9caef198",
   "metadata": {},
   "outputs": [
    {
     "name": "stdout",
     "output_type": "stream",
     "text": [
      "정수 입력: 13456\n",
      "짝수입니다.\n"
     ]
    },
    {
     "ename": "KeyboardInterrupt",
     "evalue": "Interrupted by user",
     "output_type": "error",
     "traceback": [
      "\u001b[1;31m---------------------------------------------------------------------------\u001b[0m",
      "\u001b[1;31mKeyboardInterrupt\u001b[0m                         Traceback (most recent call last)",
      "\u001b[1;32m<ipython-input-101-2c9aa8db1d59>\u001b[0m in \u001b[0;36m<module>\u001b[1;34m\u001b[0m\n\u001b[0;32m     11\u001b[0m \u001b[1;33m\u001b[0m\u001b[0m\n\u001b[0;32m     12\u001b[0m \u001b[1;31m#int로 형변화 후 2로 나눈 나머지값이 0이면 짝수, 1이면 홀수\u001b[0m\u001b[1;33m\u001b[0m\u001b[1;33m\u001b[0m\u001b[1;33m\u001b[0m\u001b[0m\n\u001b[1;32m---> 13\u001b[1;33m \u001b[0minput_num1\u001b[0m \u001b[1;33m=\u001b[0m \u001b[0mint\u001b[0m\u001b[1;33m(\u001b[0m\u001b[0minput\u001b[0m\u001b[1;33m(\u001b[0m\u001b[0minput_num\u001b[0m\u001b[1;33m)\u001b[0m\u001b[1;33m)\u001b[0m\u001b[1;33m\u001b[0m\u001b[1;33m\u001b[0m\u001b[0m\n\u001b[0m\u001b[0;32m     14\u001b[0m \u001b[1;32mif\u001b[0m \u001b[1;32mnot\u001b[0m \u001b[0minput_num1\u001b[0m \u001b[1;33m%\u001b[0m \u001b[1;36m2\u001b[0m\u001b[1;33m:\u001b[0m\u001b[1;33m\u001b[0m\u001b[1;33m\u001b[0m\u001b[0m\n\u001b[0;32m     15\u001b[0m     \u001b[0mprint\u001b[0m\u001b[1;33m(\u001b[0m\u001b[1;34m\"짝수입니다.\"\u001b[0m\u001b[1;33m)\u001b[0m\u001b[1;33m\u001b[0m\u001b[1;33m\u001b[0m\u001b[0m\n",
      "\u001b[1;32m~\\anaconda3\\lib\\site-packages\\ipykernel\\kernelbase.py\u001b[0m in \u001b[0;36mraw_input\u001b[1;34m(self, prompt)\u001b[0m\n\u001b[0;32m    858\u001b[0m                 \u001b[1;34m\"raw_input was called, but this frontend does not support input requests.\"\u001b[0m\u001b[1;33m\u001b[0m\u001b[1;33m\u001b[0m\u001b[0m\n\u001b[0;32m    859\u001b[0m             )\n\u001b[1;32m--> 860\u001b[1;33m         return self._input_request(str(prompt),\n\u001b[0m\u001b[0;32m    861\u001b[0m             \u001b[0mself\u001b[0m\u001b[1;33m.\u001b[0m\u001b[0m_parent_ident\u001b[0m\u001b[1;33m,\u001b[0m\u001b[1;33m\u001b[0m\u001b[1;33m\u001b[0m\u001b[0m\n\u001b[0;32m    862\u001b[0m             \u001b[0mself\u001b[0m\u001b[1;33m.\u001b[0m\u001b[0m_parent_header\u001b[0m\u001b[1;33m,\u001b[0m\u001b[1;33m\u001b[0m\u001b[1;33m\u001b[0m\u001b[0m\n",
      "\u001b[1;32m~\\anaconda3\\lib\\site-packages\\ipykernel\\kernelbase.py\u001b[0m in \u001b[0;36m_input_request\u001b[1;34m(self, prompt, ident, parent, password)\u001b[0m\n\u001b[0;32m    902\u001b[0m             \u001b[1;32mexcept\u001b[0m \u001b[0mKeyboardInterrupt\u001b[0m\u001b[1;33m:\u001b[0m\u001b[1;33m\u001b[0m\u001b[1;33m\u001b[0m\u001b[0m\n\u001b[0;32m    903\u001b[0m                 \u001b[1;31m# re-raise KeyboardInterrupt, to truncate traceback\u001b[0m\u001b[1;33m\u001b[0m\u001b[1;33m\u001b[0m\u001b[1;33m\u001b[0m\u001b[0m\n\u001b[1;32m--> 904\u001b[1;33m                 \u001b[1;32mraise\u001b[0m \u001b[0mKeyboardInterrupt\u001b[0m\u001b[1;33m(\u001b[0m\u001b[1;34m\"Interrupted by user\"\u001b[0m\u001b[1;33m)\u001b[0m \u001b[1;32mfrom\u001b[0m \u001b[1;32mNone\u001b[0m\u001b[1;33m\u001b[0m\u001b[1;33m\u001b[0m\u001b[0m\n\u001b[0m\u001b[0;32m    905\u001b[0m             \u001b[1;32mexcept\u001b[0m \u001b[0mException\u001b[0m \u001b[1;32mas\u001b[0m \u001b[0me\u001b[0m\u001b[1;33m:\u001b[0m\u001b[1;33m\u001b[0m\u001b[1;33m\u001b[0m\u001b[0m\n\u001b[0;32m    906\u001b[0m                 \u001b[0mself\u001b[0m\u001b[1;33m.\u001b[0m\u001b[0mlog\u001b[0m\u001b[1;33m.\u001b[0m\u001b[0mwarning\u001b[0m\u001b[1;33m(\u001b[0m\u001b[1;34m\"Invalid Message:\"\u001b[0m\u001b[1;33m,\u001b[0m \u001b[0mexc_info\u001b[0m\u001b[1;33m=\u001b[0m\u001b[1;32mTrue\u001b[0m\u001b[1;33m)\u001b[0m\u001b[1;33m\u001b[0m\u001b[1;33m\u001b[0m\u001b[0m\n",
      "\u001b[1;31mKeyboardInterrupt\u001b[0m: Interrupted by user"
     ]
    }
   ],
   "source": [
    "### 정수 입력 받아 짝수인지 확인, \n",
    "input_num = input(\"정수 입력: \")\n",
    "last_char = input_num[-1]  #마지막 글자 가져옴\n",
    "last_num = int(last_char)      #정수형 데이터로 변경\n",
    "if last_num == 0 or last_num == 2 or last_num == 4 \\\n",
    "or last_num == 6 or last_num == 8:\n",
    "    print(\"짝수입니다.\")\n",
    "if last_num == 1 or last_num == 3 or last_num == 5 \\\n",
    "or last_num == 7 or last_num == 9:\n",
    "    print(\"홀수입니다.\")\n",
    "    \n",
    "#int로 형변화 후 2로 나눈 나머지값이 0이면 짝수, 1이면 홀수\n",
    "input_num1 = int(input(input_num))\n",
    "if not input_num1 % 2:\n",
    "    print(\"짝수입니다.\")\n",
    "if input_num1 % 2:\n",
    "    print(\"홀수입니다.\")\n",
    "\n",
    "#in 연산자를 활용하여 처리 \n",
    "if last_char in \"02468\":\n",
    "    print(\"짝수입니다.\")\n",
    "if last_char in \"13579\":\n",
    "    print(\"홀수입니다.\")\n",
    "    \n",
    "\n",
    "\n"
   ]
  },
  {
   "cell_type": "code",
   "execution_count": 112,
   "id": "45eb5b49",
   "metadata": {},
   "outputs": [
    {
     "name": "stdout",
     "output_type": "stream",
     "text": [
      "숫자 두 개를 입력해주세요:21 30\n",
      "입력된 숫자는 21와 30입니다\n",
      "21는 3의 배수입니다.\n",
      "30는 3의 배수입니다.\n"
     ]
    }
   ],
   "source": [
    "#한 번에 두 개의 숫자를 입력받아 작은 수부터 출력. \n",
    "# 작은 수와 큰 수가 3의 배수이면 '3의 배수', \n",
    "#아니면 3의 배수가 아닙니다. \n",
    "input_num = input(\"숫자 두 개를 입력해주세요:\")\n",
    "number_1 = int(input_num.split()[0]) #처음 입력된 숫자\n",
    "number_2 = int(input_num.split()[1]) #두 번째 입력된 숫자\n",
    "\n",
    "if number_1 < number_2:\n",
    "    print(\"입력된 숫자는 {}와 {}입니다\".format(number_1,number_2))\n",
    "if number_1 >= number_2:\n",
    "    print(\"입력된 숫자는 {}와 {}입니다\".format(number_2,number_1))\n",
    "if number_1 % 3:\n",
    "    print(\"{}는 3의 배수가 아닙니다.\".format(number_1))\n",
    "if not number_1 % 3:\n",
    "    print(\"{}는 3의 배수입니다.\".format(number_1))\n",
    "if number_2 % 3:\n",
    "    print(\"{}는 3의 배수가 아닙니다.\".format(number_2))\n",
    "if not number_2 % 3:\n",
    "    print(\"{}는 3의 배수입니다.\".format(number_2))\n",
    "\n",
    "\n",
    "\n",
    "    "
   ]
  },
  {
   "cell_type": "code",
   "execution_count": 115,
   "id": "51023e14",
   "metadata": {},
   "outputs": [
    {
     "name": "stdout",
     "output_type": "stream",
     "text": [
      "점수입력 > 100\n",
      "A\n"
     ]
    }
   ],
   "source": [
    "#정수를 입력받아 90이상이면 'A',\n",
    "#80이상이면 'B', 70이상이면 'C', 그외 'D'\n",
    "\n",
    "input_number = int(input(\"점수입력 > \"))\n",
    "\n",
    "if input_number >= 90:\n",
    "    print('A')\n",
    "elif input_number >= 80:\n",
    "    print('B')\n",
    "elif input_number >= 70:\n",
    "    print('C')\n",
    "else:\n",
    "    print(\"D\")"
   ]
  },
  {
   "cell_type": "code",
   "execution_count": 124,
   "id": "4f0a6de5",
   "metadata": {},
   "outputs": [
    {
     "name": "stdout",
     "output_type": "stream",
     "text": [
      "겨울입니다.\n"
     ]
    }
   ],
   "source": [
    "#날짜 함수에서 월을 추출해서 현재 월이 봄인지, 가을인지 출력\n",
    "# 1~3: 봄\n",
    "# 4~6: 여름\n",
    "# 7~9: 가을\n",
    "#10~12: 겨울\n",
    "import datetime\n",
    "\n",
    "now = datetime.datetime.now()\n",
    "#now = datetime.date.today() => 년, 월, 일 \n",
    "if now.month < 4:\n",
    "    print(\"봄입니다.\")\n",
    "elif now.month < 7:\n",
    "    print(\"여름입니다.\")\n",
    "elif now.month < 10:\n",
    "    print(\"가을입니다.\")\n",
    "else:\n",
    "    print(\"겨울입니다.\")\n",
    "    \n",
    "    #처리문장이 구현되지 않아서 실행문을 결정하지 못한 상태일때\n",
    "    #pass를 써서 실행을 넘길 수 있다. \n",
    "    #이와 같이 raise notlmplementederror 를 해주면 \n",
    "    #해당 문구를 띄우며 작업 종료\n",
    "    #파이썬에서는 =<  a  =<   과 같은 양방향 부호가 가능\n",
    "\n",
    "    \n"
   ]
  },
  {
   "cell_type": "code",
   "execution_count": 125,
   "id": "80b2fd7c",
   "metadata": {},
   "outputs": [
    {
     "data": {
      "text/plain": [
       "datetime.date(2021, 10, 29)"
      ]
     },
     "execution_count": 125,
     "metadata": {},
     "output_type": "execute_result"
    }
   ],
   "source": [
    "datetime.date.today()"
   ]
  },
  {
   "cell_type": "code",
   "execution_count": 142,
   "id": "db2ad97b",
   "metadata": {},
   "outputs": [
    {
     "ename": "KeyboardInterrupt",
     "evalue": "Interrupted by user",
     "output_type": "error",
     "traceback": [
      "\u001b[1;31m---------------------------------------------------------------------------\u001b[0m",
      "\u001b[1;31mKeyboardInterrupt\u001b[0m                         Traceback (most recent call last)",
      "\u001b[1;32m<ipython-input-142-4f9c0aa4ba6e>\u001b[0m in \u001b[0;36m<module>\u001b[1;34m\u001b[0m\n\u001b[0;32m      2\u001b[0m \u001b[1;31m# 10+20, 10-20, 부호는 +, -, *, / 를 입력\u001b[0m\u001b[1;33m\u001b[0m\u001b[1;33m\u001b[0m\u001b[1;33m\u001b[0m\u001b[0m\n\u001b[0;32m      3\u001b[0m \u001b[1;33m\u001b[0m\u001b[0m\n\u001b[1;32m----> 4\u001b[1;33m \u001b[0mint_math\u001b[0m \u001b[1;33m=\u001b[0m \u001b[0minput\u001b[0m\u001b[1;33m(\u001b[0m\u001b[1;34m\"계산식을 입력하세요:\"\u001b[0m\u001b[1;33m)\u001b[0m\u001b[1;33m\u001b[0m\u001b[1;33m\u001b[0m\u001b[0m\n\u001b[0m\u001b[0;32m      5\u001b[0m \u001b[0mprint\u001b[0m\u001b[1;33m(\u001b[0m\u001b[0mint_math\u001b[0m\u001b[1;33m.\u001b[0m\u001b[0mstrip\u001b[0m\u001b[1;33m(\u001b[0m\u001b[1;33m)\u001b[0m\u001b[1;33m)\u001b[0m\u001b[1;33m\u001b[0m\u001b[1;33m\u001b[0m\u001b[0m\n\u001b[0;32m      6\u001b[0m \u001b[1;33m\u001b[0m\u001b[0m\n",
      "\u001b[1;32m~\\anaconda3\\lib\\site-packages\\ipykernel\\kernelbase.py\u001b[0m in \u001b[0;36mraw_input\u001b[1;34m(self, prompt)\u001b[0m\n\u001b[0;32m    858\u001b[0m                 \u001b[1;34m\"raw_input was called, but this frontend does not support input requests.\"\u001b[0m\u001b[1;33m\u001b[0m\u001b[1;33m\u001b[0m\u001b[0m\n\u001b[0;32m    859\u001b[0m             )\n\u001b[1;32m--> 860\u001b[1;33m         return self._input_request(str(prompt),\n\u001b[0m\u001b[0;32m    861\u001b[0m             \u001b[0mself\u001b[0m\u001b[1;33m.\u001b[0m\u001b[0m_parent_ident\u001b[0m\u001b[1;33m,\u001b[0m\u001b[1;33m\u001b[0m\u001b[1;33m\u001b[0m\u001b[0m\n\u001b[0;32m    862\u001b[0m             \u001b[0mself\u001b[0m\u001b[1;33m.\u001b[0m\u001b[0m_parent_header\u001b[0m\u001b[1;33m,\u001b[0m\u001b[1;33m\u001b[0m\u001b[1;33m\u001b[0m\u001b[0m\n",
      "\u001b[1;32m~\\anaconda3\\lib\\site-packages\\ipykernel\\kernelbase.py\u001b[0m in \u001b[0;36m_input_request\u001b[1;34m(self, prompt, ident, parent, password)\u001b[0m\n\u001b[0;32m    902\u001b[0m             \u001b[1;32mexcept\u001b[0m \u001b[0mKeyboardInterrupt\u001b[0m\u001b[1;33m:\u001b[0m\u001b[1;33m\u001b[0m\u001b[1;33m\u001b[0m\u001b[0m\n\u001b[0;32m    903\u001b[0m                 \u001b[1;31m# re-raise KeyboardInterrupt, to truncate traceback\u001b[0m\u001b[1;33m\u001b[0m\u001b[1;33m\u001b[0m\u001b[1;33m\u001b[0m\u001b[0m\n\u001b[1;32m--> 904\u001b[1;33m                 \u001b[1;32mraise\u001b[0m \u001b[0mKeyboardInterrupt\u001b[0m\u001b[1;33m(\u001b[0m\u001b[1;34m\"Interrupted by user\"\u001b[0m\u001b[1;33m)\u001b[0m \u001b[1;32mfrom\u001b[0m \u001b[1;32mNone\u001b[0m\u001b[1;33m\u001b[0m\u001b[1;33m\u001b[0m\u001b[0m\n\u001b[0m\u001b[0;32m    905\u001b[0m             \u001b[1;32mexcept\u001b[0m \u001b[0mException\u001b[0m \u001b[1;32mas\u001b[0m \u001b[0me\u001b[0m\u001b[1;33m:\u001b[0m\u001b[1;33m\u001b[0m\u001b[1;33m\u001b[0m\u001b[0m\n\u001b[0;32m    906\u001b[0m                 \u001b[0mself\u001b[0m\u001b[1;33m.\u001b[0m\u001b[0mlog\u001b[0m\u001b[1;33m.\u001b[0m\u001b[0mwarning\u001b[0m\u001b[1;33m(\u001b[0m\u001b[1;34m\"Invalid Message:\"\u001b[0m\u001b[1;33m,\u001b[0m \u001b[0mexc_info\u001b[0m\u001b[1;33m=\u001b[0m\u001b[1;32mTrue\u001b[0m\u001b[1;33m)\u001b[0m\u001b[1;33m\u001b[0m\u001b[1;33m\u001b[0m\u001b[0m\n",
      "\u001b[1;31mKeyboardInterrupt\u001b[0m: Interrupted by user"
     ]
    }
   ],
   "source": [
    "#숫자 부호 숫자를 입력받아 계산하는 프로그램 작성\n",
    "# 10+20, 10-20, 부호는 +, -, *, / 를 입력\n",
    "\n",
    "int_math = input(\"계산식을 입력하세요:\")\n",
    "print(int_math.strip())   #문장 내부의 공백을 없애진 못한다.\n",
    "\n",
    "\n"
   ]
  },
  {
   "cell_type": "code",
   "execution_count": 148,
   "id": "935a3d09",
   "metadata": {},
   "outputs": [
    {
     "name": "stdout",
     "output_type": "stream",
     "text": [
      "a_list + b_list:  [1, 2, 3, 'a', 'b', 'c']\n",
      "a_list * 3:  [1, 2, 3, 1, 2, 3, 1, 2, 3]\n",
      "a_list 갯수: 3, b_list 갯수: 3,      c_list 갯수: 6\n",
      "[1, 2, 3, ['a', 'b', 'c']]\n",
      "a\n"
     ]
    },
    {
     "data": {
      "text/plain": [
       "[1, [1, 2, 3, 'a', 'b', 'c'], 2, 3, ['a', 'b', 'c']]"
      ]
     },
     "execution_count": 148,
     "metadata": {},
     "output_type": "execute_result"
    }
   ],
   "source": [
    "#list 여러개의 데이터 집합 변수명 = [ , , ... , ]\n",
    "# +, *, len() (=> 리스트의 갯수)\n",
    "#list.append(요소), list.insert(위치, 요소)\n",
    "\n",
    "a_list = [1,2,3]\n",
    "b_list = ['a','b','c']\n",
    "print(\"a_list + b_list: \",a_list + b_list)\n",
    "print(\"a_list * 3: \",a_list*3)\n",
    "c_list = a_list + b_list\n",
    "print(\"a_list 갯수: {}, b_list 갯수: {},\\\n",
    "      c_list 갯수: {}\".format(len(a_list),len(b_list),len(c_list)))\n",
    "      \n",
    "a_list.append(b_list)\n",
    "print(a_list)\n",
    "print(a_list[3][0])\n",
    "      \n",
    "a_list.insert(1,c_list)\n",
    "a_list"
   ]
  },
  {
   "cell_type": "code",
   "execution_count": 163,
   "id": "86a58050",
   "metadata": {},
   "outputs": [
    {
     "name": "stdout",
     "output_type": "stream",
     "text": [
      "a_list= [1, 2, 3, 'test', 'abcd'] \t b_list = ['test', 'abcd']\n",
      "a_list= [1, 2, 3, 'test', 'abcd', ['test', 'abcd']]\n",
      "abcd\n",
      "['name', 'test', 'abcd']\n",
      "[1, 'change', 3, 'test', 'abcd', ['name', 'test', 'abcd']] \t ['name', 'test', 'abcd']\n"
     ]
    }
   ],
   "source": [
    "# a_list = [1,2,3], b_list = [\"test\", \"abcd\"]\n",
    "# a_list 에 b_list를 + 개념으로 추가하세요\n",
    "a_list = [1,2,3]\n",
    "b_list = [\"test\", \"abcd\"]\n",
    "a_list.extend(b_list)\n",
    "print(\"a_list=\", a_list, \"\\t\", \"b_list =\", b_list)\n",
    "\n",
    "# a_list 에 b_list를 append로 추가\n",
    "a_list.append(b_list)\n",
    "print(\"a_list=\", a_list)\n",
    "\n",
    "# 추가된 a_list에서 \"abcd\"를 출력하세요 -> index를 이용하여\n",
    "print(a_list[-1][-1])\n",
    "\n",
    "# b_list에서 \"test\"앞에 \"name\"을 추가 하세요\n",
    "b_list.insert(0,\"name\")\n",
    "print(b_list)\n",
    "\n",
    "# a_list와 두번째 요소를 'change'로 변경하세요\n",
    "# a_list와 b_list를 출력해 보세요\n",
    "a_list[1]='change'\n",
    "print(a_list,\"\\t\", b_list)\n",
    "\n",
    "\n"
   ]
  },
  {
   "cell_type": "code",
   "execution_count": null,
   "id": "da6fe541",
   "metadata": {},
   "outputs": [],
   "source": [
    "대입연산자\n",
    "a = 10 좌측 변수에 우측의 값을 입력\n",
    "비교연산자\n",
    "a == b       a와 b의 값을 비교해서 True or False 반환\n",
    "\n",
    "문자 또는 문자열은 \n",
    "a = \"10 test\"  문자, a[0] = 1, a[1] = 0, a[2] = (blank), a[-1] = t\n",
    "num = 10  숫자\n",
    "\n",
    "리스트 []\n",
    "\n",
    "a_list = [1, 2, 'test', [1,a,b]]\n",
    "a_list[0] = 1\n",
    "a_list[-1] = [1,a,b]\n",
    "a_list[-1][1] = 'a'\n",
    "a_list[2:4] = ['test', [1,a,b]]\n",
    "\n",
    "a_list.append(요소), a_line.insert(위치, 요소)\n",
    "a_list[1] = 'abcd' : 1의 값이 'abcd'로 변환\n",
    "a_list.extend(리스트)\n",
    "\n",
    "\n",
    "\n"
   ]
  }
 ],
 "metadata": {
  "kernelspec": {
   "display_name": "Python 3",
   "language": "python",
   "name": "python3"
  },
  "language_info": {
   "codemirror_mode": {
    "name": "ipython",
    "version": 3
   },
   "file_extension": ".py",
   "mimetype": "text/x-python",
   "name": "python",
   "nbconvert_exporter": "python",
   "pygments_lexer": "ipython3",
   "version": "3.8.8"
  }
 },
 "nbformat": 4,
 "nbformat_minor": 5
}
