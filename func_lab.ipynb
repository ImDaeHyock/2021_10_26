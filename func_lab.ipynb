{
 "cells": [
  {
   "cell_type": "code",
   "execution_count": 1,
   "id": "cebbf3ef",
   "metadata": {},
   "outputs": [],
   "source": [
    "#이름과 성적을 입력 받아 딕셔너리에 저장한 후 이름을 키로 성적을 값으로 (input_dat())\n",
    "#이름에 'q'가 입력되면 입력 종료\n",
    "def input_data():\n",
    "    input_str = input(\"name score : \").split()\n",
    "    if 'q' in input_str:\n",
    "        return False\n",
    "    dict_score[input_str[0]] = dict_score[int(input_str[1])]\n",
    "    return True\n",
    "\n",
    "dict_score = {}\n",
    "while True\n",
    "if not input_data():\n",
    "    break"
   ]
  },
  {
   "cell_type": "code",
   "execution_count": null,
   "id": "4d7f6a88",
   "metadata": {},
   "outputs": [],
   "source": [
    "#1. 검색할 이름 입력: 해당 이름의 성적 출력, 없으면 자료 없음 출력(search_func())\n",
    "#2. 전체 학생의 인원수, 총점과 평균을 출력 (sum_func(), avg_func())"
   ]
  }
 ],
 "metadata": {
  "kernelspec": {
   "display_name": "Python 3",
   "language": "python",
   "name": "python3"
  },
  "language_info": {
   "codemirror_mode": {
    "name": "ipython",
    "version": 3
   },
   "file_extension": ".py",
   "mimetype": "text/x-python",
   "name": "python",
   "nbconvert_exporter": "python",
   "pygments_lexer": "ipython3",
   "version": "3.8.8"
  }
 },
 "nbformat": 4,
 "nbformat_minor": 5
}
