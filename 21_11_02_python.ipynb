{
 "cells": [
  {
   "cell_type": "code",
   "execution_count": null,
   "id": "e4441935",
   "metadata": {},
   "outputs": [],
   "source": [
    "#Return: 리턴이 있다는 것은 아웃풋이 있다. \n",
    "#리턴이 없는 함수를 호출한 후 여기에 지정된 값은 정의한 함수를 이용하고 나서 저장되어 있지 않다.\n",
    "#글로벌 변수, 내가 지정한 함수에 변수가 없어도 이 변수를 이용해서 사용할 수 있게 한다.\n",
    "#(global을 안 써도 수행이 되지만 써주는게 가독성에서 좋다)\n",
    "\n",
    "#재귀함수: 자기 자신을 호출하는 것\n"
   ]
  },
  {
   "cell_type": "code",
   "execution_count": 30,
   "id": "e2f56430",
   "metadata": {},
   "outputs": [],
   "source": [
    "#피보나치 수열 함수 정의\n",
    "def fibonacci(n):\n",
    "    global count\n",
    "    count += 1\n",
    "    if n == 1:\n",
    "        return 1\n",
    "    if n == 2:\n",
    "        return 1     \n",
    "    else: \n",
    "        return fibonacci(n-1) + fibonacci(n-2)"
   ]
  },
  {
   "cell_type": "code",
   "execution_count": 45,
   "id": "7b45f951",
   "metadata": {},
   "outputs": [
    {
     "name": "stdout",
     "output_type": "stream",
     "text": [
      "fibonacci35의 계산에 활용된 덧셈 횟수는:18454929\n"
     ]
    }
   ],
   "source": [
    "count = 0\n",
    "fibonacci(35)\n",
    "print(\"fibonacci{}의 계산에 활용된 덧셈 횟수는:{}\".format(35,count))"
   ]
  },
  {
   "cell_type": "code",
   "execution_count": 48,
   "id": "f86914d0",
   "metadata": {},
   "outputs": [],
   "source": [
    "def fibonacci_m(n):\n",
    "    global count_fibonacci\n",
    "    count_fibonacci += 1\n",
    "    if n in dict_fibonacci:\n",
    "        return dict_fibonacci[n]\n",
    "    else:\n",
    "        output = fibonacci_m(n-1) + fibonacci_m(n-2)\n",
    "        dict_fibonacci[n] = output\n",
    "        return output"
   ]
  },
  {
   "cell_type": "code",
   "execution_count": 49,
   "id": "a93fa186",
   "metadata": {},
   "outputs": [
    {
     "name": "stdout",
     "output_type": "stream",
     "text": [
      "fibonacci100의 계산에 활용된 덧셈 횟수는:197\n"
     ]
    }
   ],
   "source": [
    "dict_fibonacci = {1:1, 2:1}  #재귀함수 메모화, 반복해서 값을 불러와야해서 시간이 오래 걸림에\n",
    "                            #각 값을 메모해서 필요할 때 호출할 수 있도록 하여 시간을 단축시킨다\n",
    "                            #이미 계산에 활용된 값을 dictionary에 저장 후 사용\n",
    "                            #재귀함수는 속도 때문에 웬만하면 안쓰는게 좋다. \n",
    "count_fibonacci = 0\n",
    "fibonacci_m(100)\n",
    "print(\"fibonacci{}의 계산에 활용된 덧셈 횟수는:{}\".format(100,count_fibonacci))"
   ]
  },
  {
   "cell_type": "code",
   "execution_count": 52,
   "id": "4d7d136f",
   "metadata": {},
   "outputs": [
    {
     "name": "stdout",
     "output_type": "stream",
     "text": [
      "tuple[0]:  1\n",
      "a=10, b= 20\n",
      "a =20, b =10\n",
      "<class 'int'> <class 'tuple'>\n"
     ]
    }
   ],
   "source": [
    "#tuple: 값 변경이 안됨 ()\n",
    "tuple_var = (1, 2, 3)\n",
    "print(\"tuple[0]: \",tuple_var[0])\n",
    "#tuple_var[1] = 4 # error\n",
    "\n",
    "a,b = 10,20\n",
    "print(\"a={}, b= {}\".format(a,b))\n",
    "a, b = b, a\n",
    "print(\"a ={}, b ={}\".format(a,b))\n",
    "print(type(a), type(tuple_var))"
   ]
  },
  {
   "cell_type": "code",
   "execution_count": 54,
   "id": "1692c585",
   "metadata": {},
   "outputs": [],
   "source": [
    "#file open, close\n",
    "#file = open(\"경로명/파일명\", mode: 'w, r, a')\n",
    "file = open(\"./basic.txt\",'w')    #w: 기존에 존재하면 기존 내용 없앰, 새로 생성\n",
    "file.write(\"Hello Python Programming\")\n",
    "file.close()                               # ../ : 상위 디렉토리, ./ 디렉토리명,  : 하위 디렉토리명"
   ]
  },
  {
   "cell_type": "code",
   "execution_count": 65,
   "id": "2ef155bd",
   "metadata": {},
   "outputs": [],
   "source": [
    "#file read\n",
    "file = open(\"./basic.txt\",'r') #입력모드로, 존재하지 않으면 error\n",
    "a = file.read()\n",
    "a\n",
    "file.close()"
   ]
  },
  {
   "cell_type": "code",
   "execution_count": 66,
   "id": "51435dd2",
   "metadata": {},
   "outputs": [
    {
     "name": "stdout",
     "output_type": "stream",
     "text": [
      "Hello Python Programming\n"
     ]
    }
   ],
   "source": [
    "with open(\"./basic.txt\", 'r') as file: #with 문장을 종료하면 file.close 자동으로 실행\n",
    "    contents = file.read()\n",
    "    print(contents)"
   ]
  },
  {
   "cell_type": "code",
   "execution_count": 67,
   "id": "8e54baba",
   "metadata": {},
   "outputs": [],
   "source": [
    "#파일명은 score.txt 사용\n",
    "#이름, 성적을 입력 받아 파일에 저장, 'q'가 입력되면 종료, 홍길동, 90 (구분자는 ',', '\\n'으로)\n",
    "#file.write() =>print()함수와 사용법이 유사. file.write(\"{}, {}\\n\",format(name, score))\n",
    "#file 읽어서 화면에 출력하세요"
   ]
  },
  {
   "cell_type": "code",
   "execution_count": 68,
   "id": "d1f93834",
   "metadata": {},
   "outputs": [],
   "source": [
    "def write_file(score_file):\n",
    "    input_str = input(\"name score: \").split()\n",
    "    if 'q' in input_str:\n",
    "        return False\n",
    "    score_file_write(\"{}{}\\n\".format(input_str[0],int(input_str[1])))\n",
    "    return True"
   ]
  },
  {
   "cell_type": "code",
   "execution_count": 70,
   "id": "3f68fe5b",
   "metadata": {},
   "outputs": [
    {
     "ename": "KeyboardInterrupt",
     "evalue": "Interrupted by user",
     "output_type": "error",
     "traceback": [
      "\u001b[1;31m------------------------------------------------------------------------\u001b[0m",
      "\u001b[1;31mKeyboardInterrupt\u001b[0m                      Traceback (most recent call last)",
      "\u001b[1;32m<ipython-input-70-b85d07ef4941>\u001b[0m in \u001b[0;36m<module>\u001b[1;34m\u001b[0m\n\u001b[0;32m      2\u001b[0m     \u001b[0mscore_file\u001b[0m\u001b[1;33m.\u001b[0m\u001b[0mwrite\u001b[0m\u001b[1;33m(\u001b[0m\u001b[1;34m\"{},{}\\n\"\u001b[0m\u001b[1;33m.\u001b[0m\u001b[0mformat\u001b[0m\u001b[1;33m(\u001b[0m\u001b[1;34m\"이름\"\u001b[0m\u001b[1;33m,\u001b[0m\u001b[1;34m\"성적\"\u001b[0m\u001b[1;33m)\u001b[0m\u001b[1;33m)\u001b[0m\u001b[1;33m\u001b[0m\u001b[1;33m\u001b[0m\u001b[0m\n\u001b[0;32m      3\u001b[0m     \u001b[1;32mwhile\u001b[0m \u001b[1;32mTrue\u001b[0m\u001b[1;33m:\u001b[0m\u001b[1;33m\u001b[0m\u001b[1;33m\u001b[0m\u001b[0m\n\u001b[1;32m----> 4\u001b[1;33m         \u001b[1;32mif\u001b[0m \u001b[1;32mnot\u001b[0m \u001b[0mwrite_file\u001b[0m\u001b[1;33m(\u001b[0m\u001b[0mscore_file\u001b[0m\u001b[1;33m)\u001b[0m\u001b[1;33m:\u001b[0m\u001b[1;33m\u001b[0m\u001b[1;33m\u001b[0m\u001b[0m\n\u001b[0m\u001b[0;32m      5\u001b[0m             \u001b[1;32mbreak\u001b[0m\u001b[1;33m\u001b[0m\u001b[1;33m\u001b[0m\u001b[0m\n\u001b[0;32m      6\u001b[0m     \u001b[0mscore_file_seek\u001b[0m\u001b[1;33m(\u001b[0m\u001b[1;36m0\u001b[0m\u001b[1;33m)\u001b[0m\u001b[1;33m\u001b[0m\u001b[1;33m\u001b[0m\u001b[0m\n",
      "\u001b[1;32m<ipython-input-68-7bb05bf9f970>\u001b[0m in \u001b[0;36mwrite_file\u001b[1;34m(score_file)\u001b[0m\n\u001b[0;32m      1\u001b[0m \u001b[1;32mdef\u001b[0m \u001b[0mwrite_file\u001b[0m\u001b[1;33m(\u001b[0m\u001b[0mscore_file\u001b[0m\u001b[1;33m)\u001b[0m\u001b[1;33m:\u001b[0m\u001b[1;33m\u001b[0m\u001b[1;33m\u001b[0m\u001b[0m\n\u001b[1;32m----> 2\u001b[1;33m     \u001b[0minput_str\u001b[0m \u001b[1;33m=\u001b[0m \u001b[0minput\u001b[0m\u001b[1;33m(\u001b[0m\u001b[1;34m\"name score: \"\u001b[0m\u001b[1;33m)\u001b[0m\u001b[1;33m.\u001b[0m\u001b[0msplit\u001b[0m\u001b[1;33m(\u001b[0m\u001b[1;33m)\u001b[0m\u001b[1;33m\u001b[0m\u001b[1;33m\u001b[0m\u001b[0m\n\u001b[0m\u001b[0;32m      3\u001b[0m     \u001b[1;32mif\u001b[0m \u001b[1;34m'q'\u001b[0m \u001b[1;32min\u001b[0m \u001b[0minput_str\u001b[0m\u001b[1;33m:\u001b[0m\u001b[1;33m\u001b[0m\u001b[1;33m\u001b[0m\u001b[0m\n\u001b[0;32m      4\u001b[0m         \u001b[1;32mreturn\u001b[0m \u001b[1;32mFalse\u001b[0m\u001b[1;33m\u001b[0m\u001b[1;33m\u001b[0m\u001b[0m\n\u001b[0;32m      5\u001b[0m     \u001b[0mscore_file_write\u001b[0m\u001b[1;33m(\u001b[0m\u001b[1;34m\"{}{}\\n\"\u001b[0m\u001b[1;33m.\u001b[0m\u001b[0mformat\u001b[0m\u001b[1;33m(\u001b[0m\u001b[0minput_str\u001b[0m\u001b[1;33m[\u001b[0m\u001b[1;36m0\u001b[0m\u001b[1;33m]\u001b[0m\u001b[1;33m,\u001b[0m\u001b[0mint\u001b[0m\u001b[1;33m(\u001b[0m\u001b[0minput_str\u001b[0m\u001b[1;33m[\u001b[0m\u001b[1;36m1\u001b[0m\u001b[1;33m]\u001b[0m\u001b[1;33m)\u001b[0m\u001b[1;33m)\u001b[0m\u001b[1;33m)\u001b[0m\u001b[1;33m\u001b[0m\u001b[1;33m\u001b[0m\u001b[0m\n",
      "\u001b[1;32m~\\anaconda3\\lib\\site-packages\\ipykernel\\kernelbase.py\u001b[0m in \u001b[0;36mraw_input\u001b[1;34m(self, prompt)\u001b[0m\n\u001b[0;32m    858\u001b[0m                 \u001b[1;34m\"raw_input was called, but this frontend does not support input requests.\"\u001b[0m\u001b[1;33m\u001b[0m\u001b[1;33m\u001b[0m\u001b[0m\n\u001b[0;32m    859\u001b[0m             )\n\u001b[1;32m--> 860\u001b[1;33m         return self._input_request(str(prompt),\n\u001b[0m\u001b[0;32m    861\u001b[0m             \u001b[0mself\u001b[0m\u001b[1;33m.\u001b[0m\u001b[0m_parent_ident\u001b[0m\u001b[1;33m,\u001b[0m\u001b[1;33m\u001b[0m\u001b[1;33m\u001b[0m\u001b[0m\n\u001b[0;32m    862\u001b[0m             \u001b[0mself\u001b[0m\u001b[1;33m.\u001b[0m\u001b[0m_parent_header\u001b[0m\u001b[1;33m,\u001b[0m\u001b[1;33m\u001b[0m\u001b[1;33m\u001b[0m\u001b[0m\n",
      "\u001b[1;32m~\\anaconda3\\lib\\site-packages\\ipykernel\\kernelbase.py\u001b[0m in \u001b[0;36m_input_request\u001b[1;34m(self, prompt, ident, parent, password)\u001b[0m\n\u001b[0;32m    902\u001b[0m             \u001b[1;32mexcept\u001b[0m \u001b[0mKeyboardInterrupt\u001b[0m\u001b[1;33m:\u001b[0m\u001b[1;33m\u001b[0m\u001b[1;33m\u001b[0m\u001b[0m\n\u001b[0;32m    903\u001b[0m                 \u001b[1;31m# re-raise KeyboardInterrupt, to truncate traceback\u001b[0m\u001b[1;33m\u001b[0m\u001b[1;33m\u001b[0m\u001b[1;33m\u001b[0m\u001b[0m\n\u001b[1;32m--> 904\u001b[1;33m                 \u001b[1;32mraise\u001b[0m \u001b[0mKeyboardInterrupt\u001b[0m\u001b[1;33m(\u001b[0m\u001b[1;34m\"Interrupted by user\"\u001b[0m\u001b[1;33m)\u001b[0m \u001b[1;32mfrom\u001b[0m \u001b[1;32mNone\u001b[0m\u001b[1;33m\u001b[0m\u001b[1;33m\u001b[0m\u001b[0m\n\u001b[0m\u001b[0;32m    905\u001b[0m             \u001b[1;32mexcept\u001b[0m \u001b[0mException\u001b[0m \u001b[1;32mas\u001b[0m \u001b[0me\u001b[0m\u001b[1;33m:\u001b[0m\u001b[1;33m\u001b[0m\u001b[1;33m\u001b[0m\u001b[0m\n\u001b[0;32m    906\u001b[0m                 \u001b[0mself\u001b[0m\u001b[1;33m.\u001b[0m\u001b[0mlog\u001b[0m\u001b[1;33m.\u001b[0m\u001b[0mwarning\u001b[0m\u001b[1;33m(\u001b[0m\u001b[1;34m\"Invalid Message:\"\u001b[0m\u001b[1;33m,\u001b[0m \u001b[0mexc_info\u001b[0m\u001b[1;33m=\u001b[0m\u001b[1;32mTrue\u001b[0m\u001b[1;33m)\u001b[0m\u001b[1;33m\u001b[0m\u001b[1;33m\u001b[0m\u001b[0m\n",
      "\u001b[1;31mKeyboardInterrupt\u001b[0m: Interrupted by user"
     ]
    }
   ],
   "source": [
    "with open (\"./score.txt\",\"w\") as score_file:\n",
    "    score_file.write(\"{},{}\\n\".format(\"이름\",\"성적\"))\n",
    "    while True:\n",
    "        if not write_file(score_file):\n",
    "            break\n",
    "    score_file.seek(0)               #파일 포인터를 처음으로 이동 시킴\n",
    "    for line in score_file:         #파일에서 한 라인씩 가져옴\n",
    "        print(line)            \n",
    "        print(\"----------\")\n",
    "        score_file.seek(0)          #파일 포인터를 처음으로 이동 시킴\n",
    "        print(score_file.read())    "
   ]
  },
  {
   "cell_type": "code",
   "execution_count": 71,
   "id": "6151ecfd",
   "metadata": {},
   "outputs": [
    {
     "name": "stdout",
     "output_type": "stream",
     "text": [
      "{}\n"
     ]
    }
   ],
   "source": [
    "#파일에 저장된 자료를 읽어서 딕셔너리에 저장한 후 딕셔너리의 키와 값을 출력\n",
    "file = open(\"./score.txt\",\"r\")\n",
    "dict_score={}\n",
    "for line in file:\n",
    "    line_list = line.split(',')\n",
    "    if line_list[0] == '이름':\n",
    "        continue\n",
    "    dict_score[line_list[0]] = int(line_score[1])\n",
    "file.close()\n",
    "print(dict_score)\n"
   ]
  },
  {
   "cell_type": "markdown",
   "id": "83c8c2ad",
   "metadata": {},
   "source": [
    "import random  #random을 불러온다\n",
    "hanguls = list(\"가나다라마바사아자차카타파하\")\n",
    "with open(\"./info.txt\",\"w\") as file:\n"
   ]
  },
  {
   "cell_type": "code",
   "execution_count": 76,
   "id": "8b5f8d24",
   "metadata": {},
   "outputs": [
    {
     "name": "stdout",
     "output_type": "stream",
     "text": [
      "main:\n",
      "test1\n",
      "y test1\n",
      "test2\n",
      "main 1 --- y test2\n",
      "test3\n",
      "y test3\n"
     ]
    }
   ],
   "source": [
    "#yeild 키워드를 사용하여 제너레이터 함수 정의, 제너레이터는 반복을 수행할 때 yield를 사용해서 표현의 정도를 조절 가능\n",
    "def g_func():\n",
    "    print(\"test1\")\n",
    "    yield \"y test1\"\n",
    "    \n",
    "    print(\"test2\")\n",
    "    yield \"y test2\"\n",
    "    \n",
    "    print(\"test3\")\n",
    "    yield \"y test3\"\n",
    "func = g_func()\n",
    "\n",
    "print(\"main:\") \n",
    "g_func()         #제너레이터 함수는 실해되지 않는다.\n",
    "print(next(func))           #next (제너레이터 함수명) yield 까지 실행하고 yield 뒤에 나오는 자료를 return\n",
    "print(\"main 1 ---\",next(func))\n",
    "print(next(func))"
   ]
  },
  {
   "cell_type": "code",
   "execution_count": 81,
   "id": "3868dbd2",
   "metadata": {},
   "outputs": [
    {
     "name": "stdout",
     "output_type": "stream",
     "text": [
      "5\n",
      "4\n",
      "3\n",
      "2\n",
      "1\n"
     ]
    }
   ],
   "source": [
    "a_list = [1,2,3,4,5]\n",
    "r_list = reversed(a_list)\n",
    "for i in range(len(a_list)):          #i는 a_list의 길이만큼의 범주 안에서 증가한다.\n",
    "    print(next(r_list))                # i번째 r_list의 요소를 출력한다. "
   ]
  },
  {
   "cell_type": "code",
   "execution_count": 85,
   "id": "745cbd72",
   "metadata": {},
   "outputs": [
    {
     "name": "stdout",
     "output_type": "stream",
     "text": [
      "50\n",
      "40\n",
      "30\n",
      "20\n",
      "10\n"
     ]
    }
   ],
   "source": [
    "def r_func(v_list):\n",
    "    for i in range(len(v_list)-1,-1,-1):       #range(start,end,증가폭)\n",
    "        yield v_list[i]\n",
    "\n",
    "a_list = [10,20,30,40,50]\n",
    "a = r_func(a_list)\n",
    "for i in range(5):\n",
    "    print(next(a))"
   ]
  },
  {
   "cell_type": "code",
   "execution_count": 87,
   "id": "297e8df6",
   "metadata": {},
   "outputs": [
    {
     "name": "stdout",
     "output_type": "stream",
     "text": [
      "1::2::3::4::5\n"
     ]
    }
   ],
   "source": [
    "#문자열 합성 문자열 .join    함수와 리스트를 사용 map(함수, 리스트)\n",
    "numbers =  [1,2,3,4,5]\n",
    "print(\"::\".join(map(str,numbers)))"
   ]
  },
  {
   "cell_type": "code",
   "execution_count": 88,
   "id": "2f9fa23a",
   "metadata": {},
   "outputs": [
    {
     "name": "stdout",
     "output_type": "stream",
     "text": [
      "#홀수 출력\n",
      "[1, 3, 5, 7, 9]\n",
      "#3이상 7미만 출력\n",
      "[3, 4, 5, 6]\n",
      "#제곱해서 50미만 출력\n",
      "[1, 2, 3, 4, 5, 6, 7]\n"
     ]
    }
   ],
   "source": [
    "numbers = list(range(1, 10+1))\n",
    "\n",
    "print(\"#홀수 출력\")\n",
    "print(list(filter(lambda x:x%2==1,numbers)))\n",
    "\n",
    "print(\"#3이상 7미만 출력\")\n",
    "print(list(filter(lambda x:3<=x<7,numbers)))\n",
    "\n",
    "print(\"#제곱해서 50미만 출력\")\n",
    "print(list(filter(lambda x:x*x<50,numbers)))\n",
    "\n"
   ]
  },
  {
   "cell_type": "code",
   "execution_count": 90,
   "id": "0aae1fab",
   "metadata": {},
   "outputs": [
    {
     "name": "stdout",
     "output_type": "stream",
     "text": [
      "정수입력 :e\n",
      "try~except~else ~finally\n"
     ]
    },
    {
     "ename": "ValueError",
     "evalue": "invalid literal for int() with base 10: 'e'",
     "output_type": "error",
     "traceback": [
      "\u001b[1;31m------------------------------------------------------------------------\u001b[0m",
      "\u001b[1;31mValueError\u001b[0m                             Traceback (most recent call last)",
      "\u001b[1;32m<ipython-input-90-b90f7af281df>\u001b[0m in \u001b[0;36m<module>\u001b[1;34m\u001b[0m\n\u001b[0;32m      3\u001b[0m \u001b[1;33m\u001b[0m\u001b[0m\n\u001b[0;32m      4\u001b[0m \u001b[1;32mtry\u001b[0m\u001b[1;33m:\u001b[0m\u001b[1;33m\u001b[0m\u001b[1;33m\u001b[0m\u001b[0m\n\u001b[1;32m----> 5\u001b[1;33m     \u001b[0mnumber_input\u001b[0m \u001b[1;33m=\u001b[0m \u001b[0mint\u001b[0m\u001b[1;33m(\u001b[0m\u001b[0minput\u001b[0m\u001b[1;33m(\u001b[0m\u001b[1;34m\"정수입력 :\"\u001b[0m\u001b[1;33m)\u001b[0m\u001b[1;33m)\u001b[0m\u001b[1;33m\u001b[0m\u001b[1;33m\u001b[0m\u001b[0m\n\u001b[0m\u001b[0;32m      6\u001b[0m     \u001b[0mprint\u001b[0m\u001b[1;33m(\u001b[0m\u001b[1;34m\"원의 반지름: \"\u001b[0m\u001b[1;33m,\u001b[0m\u001b[0mnumber_input\u001b[0m\u001b[1;33m)\u001b[0m\u001b[1;33m\u001b[0m\u001b[1;33m\u001b[0m\u001b[0m\n\u001b[0;32m      7\u001b[0m     \u001b[0mprint\u001b[0m\u001b[1;33m(\u001b[0m\u001b[1;34m\"원의 둘레: \"\u001b[0m\u001b[1;33m,\u001b[0m\u001b[0mnumber_input\u001b[0m\u001b[1;33m*\u001b[0m\u001b[1;36m2\u001b[0m\u001b[1;33m*\u001b[0m\u001b[0mPi\u001b[0m\u001b[1;33m)\u001b[0m\u001b[1;33m\u001b[0m\u001b[1;33m\u001b[0m\u001b[0m\n",
      "\u001b[1;31mValueError\u001b[0m: invalid literal for int() with base 10: 'e'"
     ]
    }
   ],
   "source": [
    "# 예외처리 try ~except ~else ~finally\n",
    "Pi=3.14\n",
    "\n",
    "try:\n",
    "    number_input = int(input(\"정수입력 :\"))\n",
    "    print(\"원의 반지름: \",number_input)\n",
    "    print(\"원의 둘레: \",number_input*2*Pi)\n",
    "    print(\"원의 넓이: \",number_input*number_input*Pi)\n",
    "except:\n",
    "    print(\"정수가 입력되지 않음\")\n",
    "else:\n",
    "    print(\"정상입력\")\n",
    "    \n",
    "finally:\n",
    "    print(\"try~except~else ~finally\")\n",
    "    \n"
   ]
  },
  {
   "cell_type": "code",
   "execution_count": null,
   "id": "6dfd8883",
   "metadata": {},
   "outputs": [],
   "source": [
    "try:\n",
    "    number_input = int(input(\"정수입력 :\"))\n",
    "except exception as e:\n",
    "    print(e)\n",
    "else:\n",
    "    print(\"원의 반지름: \",number_input)\n",
    "    print(\"원의 둘레: \",number_input*2*Pi)\n",
    "    print(\"원의 넓이: \",number_input*number_input*Pi)\n",
    "finally:\n",
    "    print(\"try~except~else ~finally\")"
   ]
  },
  {
   "cell_type": "code",
   "execution_count": 93,
   "id": "bebd2541",
   "metadata": {},
   "outputs": [
    {
     "name": "stdout",
     "output_type": "stream",
     "text": [
      "file close\n"
     ]
    }
   ],
   "source": [
    "#파일을 \"try.txt\"d을 'r'모드로 오픈한 뒤 에러 발생하면 'w'모드로 오픈\n",
    "#마지막에 close하고 종료\n",
    "\n",
    "try:\n",
    "    file = open('./try.txt','r')\n",
    "except Exception as e:                      #camel case임에 'Exception'은 클래스이다.\n",
    "    print(e)\n",
    "    file = open('./file.txt','w')\n",
    "finally:\n",
    "    print(\"file close\")\n",
    "    file.close()"
   ]
  },
  {
   "cell_type": "code",
   "execution_count": 95,
   "id": "8e9b2407",
   "metadata": {},
   "outputs": [
    {
     "name": "stdout",
     "output_type": "stream",
     "text": [
      "<module 'ntpath' from 'C:\\\\Users\\\\TEMP\\\\anaconda3\\\\lib\\\\ntpath.py'>\n"
     ]
    }
   ],
   "source": [
    "import os                       #os명령어를 가져와서 \n",
    "#os.remove(\"./try.txt\")           #try.txt파일 remove 실행 \n",
    "\n",
    "print(os.path)                   #현재 작업하는 디렉터리 경로 찾는 방법\n",
    "                                 #경로에는 상대경로, 절대경로가 있다. \n",
    "                                 #상대경로는 현 디렉터리의 안, 밖에 무엇이 있냐 찾는거.   './' : 현재 디렉터리, '../': 상위 \n",
    "                                 #절대경로는 C://부터 시작"
   ]
  },
  {
   "cell_type": "code",
   "execution_count": 96,
   "id": "2d259800",
   "metadata": {},
   "outputs": [
    {
     "data": {
      "text/plain": [
       "3"
      ]
     },
     "execution_count": 96,
     "metadata": {},
     "output_type": "execute_result"
    }
   ],
   "source": [
    "a_list = [10, 'a', 20, 'b']\n",
    "a_list.index('b') #해당하는 값이 위치한 index return"
   ]
  },
  {
   "cell_type": "markdown",
   "id": "1b899485",
   "metadata": {},
   "source": [
    "numbers = [57,273, 32, 103, 90, 10, 275]\n",
    "\n",
    "print(\"#(1)요소 내부에 있는 값 찾기\")\n",
    "print(\"-{}는 {}위치에 있습니다.\".format(52, numbers.index(52)))\n",
    "print()\n",
    "\n",
    "print(\"#(2)요소 내부에 없는 값 찾기\")\n",
    "number=10000\n",
    "     if \n",
    "    else number not in numbers:\n",
    "        print"
   ]
  },
  {
   "cell_type": "code",
   "execution_count": 108,
   "id": "2fd9fec6",
   "metadata": {},
   "outputs": [],
   "source": [
    "def search_num(s_num, numbers):\n",
    "    try:\n",
    "        print(\"-{}는 {}위치에 있습니다\".format(s_num, numbers.index(s_num)))    #s_num과 numbers의 s_num가 해당되는 인덱스를 넣는다.\n",
    "    except:\n",
    "        print(\"-리스트 내부에 없습니다\")\n",
    "    finally:\n",
    "        print(\"함수가 종료되었습니다\")"
   ]
  },
  {
   "cell_type": "code",
   "execution_count": 120,
   "id": "3534b725",
   "metadata": {},
   "outputs": [
    {
     "name": "stdout",
     "output_type": "stream",
     "text": [
      "-57는 0위치에 있습니다\n",
      "함수가 종료되었습니다\n",
      "-리스트 내부에 없습니다\n",
      "함수가 종료되었습니다\n"
     ]
    }
   ],
   "source": [
    "numbers = [57, 273, 32, 103, 90, 10, 275]\n",
    "\n",
    "search_num(57, numbers)\n",
    "search_num(102, numbers)"
   ]
  },
  {
   "cell_type": "code",
   "execution_count": 128,
   "id": "4a3972f0",
   "metadata": {},
   "outputs": [
    {
     "name": "stdout",
     "output_type": "stream",
     "text": [
      "인덱스를 입력하면 해당하는 요소를 도출합니다:2\n",
      "- 2 위치에  32 값이 있습니다\n"
     ]
    }
   ],
   "source": [
    "try:\n",
    "    input_num = int(input(\"인덱스를 입력하면 해당하는 요소를 도출합니다:\"))\n",
    "    print(\"- {} 위치에  {} 값이 있습니다\".format(input_num, numbers[input_num]))\n",
    "except ValueError as err_contents:\n",
    "    print(\"정수를 입력하세요:\",err_contents)\n",
    "    print(\"type(err_contents\",type(err_contents))\n",
    "except IndexError as err_contents:\n",
    "    print(\"범위를 벗어났습니다:\",err_contents)\n",
    "except Exception as err_contents:\n",
    "    print(\"예측하지 못한 에러 발생...:\",err_contents)"
   ]
  },
  {
   "cell_type": "code",
   "execution_count": 131,
   "id": "4f6562cf",
   "metadata": {},
   "outputs": [
    {
     "name": "stdout",
     "output_type": "stream",
     "text": [
      "정수입력:-10\n"
     ]
    },
    {
     "ename": "NameError",
     "evalue": "name 'NotimpleanterError' is not defined",
     "output_type": "error",
     "traceback": [
      "\u001b[1;31m------------------------------------------------------------------------\u001b[0m",
      "\u001b[1;31mNameError\u001b[0m                              Traceback (most recent call last)",
      "\u001b[1;32m<ipython-input-131-9fbaca660915>\u001b[0m in \u001b[0;36m<module>\u001b[1;34m\u001b[0m\n\u001b[0;32m      3\u001b[0m     \u001b[1;32mraise\u001b[0m \u001b[0mNotimpleanterError\u001b[0m   \u001b[1;31m#강제로 에러를 발생시켜 프로그램 종료\u001b[0m\u001b[1;33m\u001b[0m\u001b[1;33m\u001b[0m\u001b[0m\n\u001b[0;32m      4\u001b[0m \u001b[1;32melse\u001b[0m\u001b[1;33m:\u001b[0m\u001b[1;33m\u001b[0m\u001b[1;33m\u001b[0m\u001b[0m\n\u001b[1;32m----> 5\u001b[1;33m     \u001b[1;32mraise\u001b[0m \u001b[0mNotimpleanterError\u001b[0m\u001b[1;33m(\u001b[0m\u001b[1;34m'아직 구현 안 함'\u001b[0m\u001b[1;33m)\u001b[0m\u001b[1;33m\u001b[0m\u001b[1;33m\u001b[0m\u001b[0m\n\u001b[0m",
      "\u001b[1;31mNameError\u001b[0m: name 'NotimpleanterError' is not defined"
     ]
    }
   ],
   "source": [
    "number = int(input(\"정수입력:\"))\n",
    "if number > 0:\n",
    "    raise NotimpleanterError   #강제로 에러를 발생시켜 프로그램 종료\n",
    "else:\n",
    "    raise NotimpleanterError('아직 구현 안 함')"
   ]
  }
 ],
 "metadata": {
  "kernelspec": {
   "display_name": "Python 3",
   "language": "python",
   "name": "python3"
  },
  "language_info": {
   "codemirror_mode": {
    "name": "ipython",
    "version": 3
   },
   "file_extension": ".py",
   "mimetype": "text/x-python",
   "name": "python",
   "nbconvert_exporter": "python",
   "pygments_lexer": "ipython3",
   "version": "3.8.8"
  }
 },
 "nbformat": 4,
 "nbformat_minor": 5
}
