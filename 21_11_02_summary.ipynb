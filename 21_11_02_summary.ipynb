{
 "cells": [
  {
   "cell_type": "markdown",
   "id": "4eb9e36d",
   "metadata": {},
   "source": [
    "[함수의 활용]\n",
    "1. 재귀함수\n",
    " - 자기 자신을 호출하는 함수"
   ]
  },
  {
   "cell_type": "code",
   "execution_count": 4,
   "id": "2b3d6747",
   "metadata": {},
   "outputs": [
    {
     "name": "stdout",
     "output_type": "stream",
     "text": [
      "1!: 1\n",
      "5!: 120\n",
      "10!: 3628800\n"
     ]
    }
   ],
   "source": [
    "# 팩토리얼 구하기 (1/2)\n",
    "# 반복문으로 구하기\n",
    "\n",
    "def factorial(n):\n",
    "    output = 1                  #출력되는 변수를 1로 초기화\n",
    "    for i in range(1,n+1):      #1에서 n+1 미만까지의 범위\n",
    "        output *= i\n",
    "    return output               #output 변수를 함수로 내보낸다\n",
    "\n",
    "print(\"1!:\", factorial(1))        # 1까지의 팩토리얼\n",
    "print(\"5!:\", factorial(5))        # 5까지의 팩토리얼\n",
    "print(\"10!:\", factorial(10))      # 10까지의 팩토리얼"
   ]
  },
  {
   "cell_type": "code",
   "execution_count": 10,
   "id": "a7fda680",
   "metadata": {},
   "outputs": [
    {
     "name": "stdout",
     "output_type": "stream",
     "text": [
      "1!: 1\n",
      "5!: 120\n",
      "10!: 3628800\n"
     ]
    }
   ],
   "source": [
    "# 팩토리얼 구하기 (2/2)\n",
    "# 재귀 함수로 구하기\n",
    "\n",
    "def factorial(n):\n",
    "    if n == 0:                   #factorial(0)의 경우\n",
    "        return 1                 #1을 반환한다\n",
    "    else: \n",
    "        return n*factorial(n-1)\n",
    "    \n",
    "print(\"1!:\",factorial(1))\n",
    "print(\"5!:\",factorial(5))\n",
    "print(\"10!:\",factorial(10))"
   ]
  },
  {
   "cell_type": "markdown",
   "id": "dce97865",
   "metadata": {},
   "source": [
    "재귀함수의 문제점\n",
    "- 같은 과정을 기하급수적으로 반복해야하는 경우가 생길 수 있다. \n",
    "- 적절하게 쓰이면 알아보기 쉬우나 연산이 느린 단점\n",
    ">> '메모화'를 이용하면 반복하게될 수 있는 값을 다시 연산할 필요 없이 호출해서 쓸 수 있게 함으로 시간을 줄일 수 있다\n",
    "\n",
    "*참조(reference): 변수에 접근하는 행위\n",
    "**global: 함수 내부에서 함수 외부에 있는 변수라는 것을 설명하는 구문\n",
    " -파이썬은 함수 내부에서 외부의 변수를 참조 못하기 때문에 이렇게 함"
   ]
  },
  {
   "cell_type": "code",
   "execution_count": 11,
   "id": "72cf076a",
   "metadata": {},
   "outputs": [],
   "source": [
    "#재귀 함수의 문제점 (1/2)\n",
    "#피보나치수열로 알아보기\n",
    "\n",
    "counter = 0\n",
    "\n",
    "def fibonacci(n):\n",
    "    print(\"fibonacci({})를 구합니다.\".format(n))\n",
    "    global counter\n",
    "    counter += 1\n",
    "    \n",
    "    if n == 1:\n",
    "        return 1\n",
    "    if n == 2:\n",
    "        return 1\n",
    "    else:\n",
    "        return fibonacci(n-1)+fibonacci(n-2)"
   ]
  },
  {
   "cell_type": "code",
   "execution_count": 12,
   "id": "4a71dc14",
   "metadata": {},
   "outputs": [
    {
     "name": "stdout",
     "output_type": "stream",
     "text": [
      "fibonacci(10)를 구합니다.\n",
      "fibonacci(9)를 구합니다.\n",
      "fibonacci(8)를 구합니다.\n",
      "fibonacci(7)를 구합니다.\n",
      "fibonacci(6)를 구합니다.\n",
      "fibonacci(5)를 구합니다.\n",
      "fibonacci(4)를 구합니다.\n",
      "fibonacci(3)를 구합니다.\n",
      "fibonacci(2)를 구합니다.\n",
      "fibonacci(1)를 구합니다.\n",
      "fibonacci(2)를 구합니다.\n",
      "fibonacci(3)를 구합니다.\n",
      "fibonacci(2)를 구합니다.\n",
      "fibonacci(1)를 구합니다.\n",
      "fibonacci(4)를 구합니다.\n",
      "fibonacci(3)를 구합니다.\n",
      "fibonacci(2)를 구합니다.\n",
      "fibonacci(1)를 구합니다.\n",
      "fibonacci(2)를 구합니다.\n",
      "fibonacci(5)를 구합니다.\n",
      "fibonacci(4)를 구합니다.\n",
      "fibonacci(3)를 구합니다.\n",
      "fibonacci(2)를 구합니다.\n",
      "fibonacci(1)를 구합니다.\n",
      "fibonacci(2)를 구합니다.\n",
      "fibonacci(3)를 구합니다.\n",
      "fibonacci(2)를 구합니다.\n",
      "fibonacci(1)를 구합니다.\n",
      "fibonacci(6)를 구합니다.\n",
      "fibonacci(5)를 구합니다.\n",
      "fibonacci(4)를 구합니다.\n",
      "fibonacci(3)를 구합니다.\n",
      "fibonacci(2)를 구합니다.\n",
      "fibonacci(1)를 구합니다.\n",
      "fibonacci(2)를 구합니다.\n",
      "fibonacci(3)를 구합니다.\n",
      "fibonacci(2)를 구합니다.\n",
      "fibonacci(1)를 구합니다.\n",
      "fibonacci(4)를 구합니다.\n",
      "fibonacci(3)를 구합니다.\n",
      "fibonacci(2)를 구합니다.\n",
      "fibonacci(1)를 구합니다.\n",
      "fibonacci(2)를 구합니다.\n",
      "fibonacci(7)를 구합니다.\n",
      "fibonacci(6)를 구합니다.\n",
      "fibonacci(5)를 구합니다.\n",
      "fibonacci(4)를 구합니다.\n",
      "fibonacci(3)를 구합니다.\n",
      "fibonacci(2)를 구합니다.\n",
      "fibonacci(1)를 구합니다.\n",
      "fibonacci(2)를 구합니다.\n",
      "fibonacci(3)를 구합니다.\n",
      "fibonacci(2)를 구합니다.\n",
      "fibonacci(1)를 구합니다.\n",
      "fibonacci(4)를 구합니다.\n",
      "fibonacci(3)를 구합니다.\n",
      "fibonacci(2)를 구합니다.\n",
      "fibonacci(1)를 구합니다.\n",
      "fibonacci(2)를 구합니다.\n",
      "fibonacci(5)를 구합니다.\n",
      "fibonacci(4)를 구합니다.\n",
      "fibonacci(3)를 구합니다.\n",
      "fibonacci(2)를 구합니다.\n",
      "fibonacci(1)를 구합니다.\n",
      "fibonacci(2)를 구합니다.\n",
      "fibonacci(3)를 구합니다.\n",
      "fibonacci(2)를 구합니다.\n",
      "fibonacci(1)를 구합니다.\n",
      "fibonacci(8)를 구합니다.\n",
      "fibonacci(7)를 구합니다.\n",
      "fibonacci(6)를 구합니다.\n",
      "fibonacci(5)를 구합니다.\n",
      "fibonacci(4)를 구합니다.\n",
      "fibonacci(3)를 구합니다.\n",
      "fibonacci(2)를 구합니다.\n",
      "fibonacci(1)를 구합니다.\n",
      "fibonacci(2)를 구합니다.\n",
      "fibonacci(3)를 구합니다.\n",
      "fibonacci(2)를 구합니다.\n",
      "fibonacci(1)를 구합니다.\n",
      "fibonacci(4)를 구합니다.\n",
      "fibonacci(3)를 구합니다.\n",
      "fibonacci(2)를 구합니다.\n",
      "fibonacci(1)를 구합니다.\n",
      "fibonacci(2)를 구합니다.\n",
      "fibonacci(5)를 구합니다.\n",
      "fibonacci(4)를 구합니다.\n",
      "fibonacci(3)를 구합니다.\n",
      "fibonacci(2)를 구합니다.\n",
      "fibonacci(1)를 구합니다.\n",
      "fibonacci(2)를 구합니다.\n",
      "fibonacci(3)를 구합니다.\n",
      "fibonacci(2)를 구합니다.\n",
      "fibonacci(1)를 구합니다.\n",
      "fibonacci(6)를 구합니다.\n",
      "fibonacci(5)를 구합니다.\n",
      "fibonacci(4)를 구합니다.\n",
      "fibonacci(3)를 구합니다.\n",
      "fibonacci(2)를 구합니다.\n",
      "fibonacci(1)를 구합니다.\n",
      "fibonacci(2)를 구합니다.\n",
      "fibonacci(3)를 구합니다.\n",
      "fibonacci(2)를 구합니다.\n",
      "fibonacci(1)를 구합니다.\n",
      "fibonacci(4)를 구합니다.\n",
      "fibonacci(3)를 구합니다.\n",
      "fibonacci(2)를 구합니다.\n",
      "fibonacci(1)를 구합니다.\n",
      "fibonacci(2)를 구합니다.\n",
      "---------\n",
      "fibonacci(10)계산에 활용된 덧셈 횟수는 109번 입니다\n"
     ]
    }
   ],
   "source": [
    "fibonacci(10)\n",
    "print(\"---------\")\n",
    "print(\"fibonacci(10)계산에 활용된 덧셈 횟수는 {}번 입니다\".format(counter)) \n",
    "#결과를 확인해보면 반복되는 과정이 많음을 알 수 있다. "
   ]
  },
  {
   "cell_type": "code",
   "execution_count": 13,
   "id": "c32aac2b",
   "metadata": {},
   "outputs": [],
   "source": [
    "#재귀 함수의 문제점 (2/2)\n",
    "#재귀함수에서 노트화를 통해 연산속도 줄이기\n",
    "\n",
    "dictionary = {\n",
    "    1: 1,                                  #1일 때 1이란 값을 쓰고\n",
    "    2: 1                                   #2일 때 1이란 값을 쓴다\n",
    "}\n",
    "\n",
    "def fibonacci(n):\n",
    "    if n in dictionary:                    #만약 n이 dictionary에 있을 때\n",
    "        return dictionary[n]               #그 n값에 해당하는 dictionary의 값을 반환한다.\n",
    "    else:\n",
    "        output = fibonacci(n-1)+fibonacci(n-2)\n",
    "        dictionary[n] = output\n",
    "        return output"
   ]
  },
  {
   "cell_type": "code",
   "execution_count": 22,
   "id": "04edac7e",
   "metadata": {},
   "outputs": [
    {
     "name": "stdout",
     "output_type": "stream",
     "text": [
      "fibonacci(10): 55\n"
     ]
    }
   ],
   "source": [
    "print(\"fibonacci(10):\",fibonacci(10))"
   ]
  },
  {
   "cell_type": "markdown",
   "id": "78d74926",
   "metadata": {},
   "source": [
    "1. 튜플\n",
    "   : 리스트와 유사한 자료형. 리스트와 달리 한번 결정된 요소는 바뀔 수 없다.\n",
    "2. 람다\n",
    "   : 함수를 간단하고 쉽게 선언하는 방법"
   ]
  },
  {
   "cell_type": "code",
   "execution_count": 23,
   "id": "2d7011d7",
   "metadata": {},
   "outputs": [
    {
     "ename": "TypeError",
     "evalue": "'tuple' object does not support item assignment",
     "output_type": "error",
     "traceback": [
      "\u001b[1;31m------------------------------------------------------------------------\u001b[0m",
      "\u001b[1;31mTypeError\u001b[0m                              Traceback (most recent call last)",
      "\u001b[1;32m<ipython-input-23-bf513d7132f5>\u001b[0m in \u001b[0;36m<module>\u001b[1;34m\u001b[0m\n\u001b[0;32m      1\u001b[0m \u001b[0mabc_test\u001b[0m \u001b[1;33m=\u001b[0m \u001b[1;33m(\u001b[0m\u001b[1;36m10\u001b[0m\u001b[1;33m,\u001b[0m \u001b[1;36m20\u001b[0m\u001b[1;33m,\u001b[0m \u001b[1;36m30\u001b[0m\u001b[1;33m)\u001b[0m\u001b[1;33m\u001b[0m\u001b[1;33m\u001b[0m\u001b[0m\n\u001b[1;32m----> 2\u001b[1;33m \u001b[0mabc_test\u001b[0m\u001b[1;33m[\u001b[0m\u001b[1;36m0\u001b[0m\u001b[1;33m]\u001b[0m \u001b[1;33m=\u001b[0m \u001b[1;36m20\u001b[0m\u001b[1;33m\u001b[0m\u001b[1;33m\u001b[0m\u001b[0m\n\u001b[0m",
      "\u001b[1;31mTypeError\u001b[0m: 'tuple' object does not support item assignment"
     ]
    }
   ],
   "source": [
    "abc_test = (10, 20, 30)                             #이와 같이 튜플은 요소를 변경할 수 없다. \n",
    "abc_test[0] = 20"
   ]
  },
  {
   "cell_type": "code",
   "execution_count": null,
   "id": "c44fb89f",
   "metadata": {},
   "outputs": [],
   "source": []
  }
 ],
 "metadata": {
  "kernelspec": {
   "display_name": "Python 3",
   "language": "python",
   "name": "python3"
  },
  "language_info": {
   "codemirror_mode": {
    "name": "ipython",
    "version": 3
   },
   "file_extension": ".py",
   "mimetype": "text/x-python",
   "name": "python",
   "nbconvert_exporter": "python",
   "pygments_lexer": "ipython3",
   "version": "3.8.8"
  }
 },
 "nbformat": 4,
 "nbformat_minor": 5
}
