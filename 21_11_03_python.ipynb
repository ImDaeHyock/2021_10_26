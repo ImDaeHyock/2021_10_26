{
 "cells": [
  {
   "cell_type": "code",
   "execution_count": 38,
   "id": "02e9b654",
   "metadata": {},
   "outputs": [],
   "source": [
    "def input_name_func():\n",
    "    list_name = []\n",
    "    while True:\n",
    "        name = input(\"이름입력:\")\n",
    "        if name == 'q':\n",
    "            break\n",
    "        list_name.append(name)\n",
    "    return list_name\n",
    "\n",
    "def input_score_func(cnt):         #cnt: 입력된 갯수 만큼\n",
    "    list_score = []\n",
    "    for i in range(cnt):\n",
    "        score = input(\"점수를 입력:\")\n",
    "        if score.isdigit():\n",
    "            list_score.append(score)\n",
    "        else:\n",
    "            print(score,\": 잘못된 방법입니다. 숫자로 다시 입력해주세요.\")\n",
    "    return list_score\n",
    "\n",
    "def make_dict_func(list_name, list_score):    #위에서 정의한 두 함수의 리턴값을 변수로 삼는 함수 선언\n",
    "    dict_name_score = {}\n",
    "    for idx, name in enumerate(list_name):    #enumerate : 리스트가 있는 경우 순서와 리스트의 값을 전달하는 기능\n",
    "                                              #자료형(리스트, 튜플, 문자형)을 입력받아 인덱스값을 포함하는 객체를 리턴\n",
    "        dict_name_score[name] = list_score[idx]\n",
    "    return dict_name_score\n",
    "\n",
    "def file_write(dict_name_score):\n",
    "    fp = open(\"file.txt\",'w')    #open() 함수의 첫 번째에는 파일의 이름, 그 뒤는 모드(무엇을 할것인지, w,a,r)를 입력\n",
    "    for key, value in dict_name_score.items():\n",
    "        text = key + ',' + str(value) + '\\n'  #이름과 성적을 ','로 분리해서 저장\n",
    "        fp.write(text)                        #위에서 저장된 text를 넣어준다. \n",
    "    fp.close()\n",
    "    \n",
    "def file_read(file_name,mode):\n",
    "    dname_score_r= {}                                     #dname_score_r 이라는 딕셔너리를 정의\n",
    "    fp = open(file_name,mode)\n",
    "    for line in fp:\n",
    "        line_list = line.split(',')                       #하나의 문자열을 ','로 분리\n",
    "        dname_score_r[line_list[0]] = int(line_list[1])   #정수를 int로 변환\n",
    "    fp.close()\n",
    "    return dname_score_r"
   ]
  },
  {
   "cell_type": "code",
   "execution_count": 39,
   "id": "93d0e208",
   "metadata": {},
   "outputs": [
    {
     "name": "stdout",
     "output_type": "stream",
     "text": [
      "이름입력:철수\n",
      "이름입력:영희\n",
      "이름입력:q\n",
      "점수를 입력:10\n",
      "점수를 입력:20\n",
      "dict_name_score:  {'철수': '10', '영희': '20'}\n",
      "{'철수': 10, '영희': 20}\n"
     ]
    }
   ],
   "source": [
    "#이름을 입력받아 list_name에 저장: 입력의 끝은 'q' -> input_name_func()으로 구현\n",
    "#입력된 이름의 갯수만큼 성적을 입력받아 list_score에 저장 -> input_score_func()으로 구현\n",
    "#입력된 이름을 키로 성적을 값으로 저장하는 함수 작성. dict_name_score, 식별자, make_dict_func()으로 구현\n",
    "#저장된 dict_name_score의 자료를 파일로 저장 -> 구분자는 ','로  => \"홍길동, 90\\n, 김철수, 80\"\n",
    "#파일명은 file.txt로 저장 'w'모드로 open => 저장이 모두 끝나면 file close => file_write() 함수로\n",
    "#저장된 파일을 'r'모드로 open해서 파일의 내용을 dict로 저장하고 dict 출력 => file.read() 함수로\n",
    "\n",
    "list_name = input_name_func() #list에 이름 입력\n",
    "\n",
    "list_score = input_score_func(len(list_name))\n",
    "\n",
    "dict_name_score = make_dict_func(list_name, list_score)\n",
    "print(\"dict_name_score: \",dict_name_score)\n",
    "\n",
    "file_write(dict_name_score)    #file_write()라는 함수가 정의되어야 함\n",
    "dict_name_score = file_read(\"file.txt\",\"r\")     #file_read()라는 함수가 정의되어야 함\n",
    "print(dict_name_score)\n"
   ]
  },
  {
   "cell_type": "code",
   "execution_count": 18,
   "id": "d2113fa2",
   "metadata": {},
   "outputs": [
    {
     "name": "stdout",
     "output_type": "stream",
     "text": [
      "a\n",
      "b\n",
      "c\n",
      "d\n",
      "e\n",
      "f\n"
     ]
    }
   ],
   "source": [
    "a_str = 'abcdef'\n",
    "for some in a_str:                         #for 다음에 char 아무거나 지정해도 가능 \n",
    "    print(some)"
   ]
  },
  {
   "cell_type": "code",
   "execution_count": null,
   "id": "d1da5d41",
   "metadata": {},
   "outputs": [],
   "source": []
  }
 ],
 "metadata": {
  "kernelspec": {
   "display_name": "Python 3",
   "language": "python",
   "name": "python3"
  },
  "language_info": {
   "codemirror_mode": {
    "name": "ipython",
    "version": 3
   },
   "file_extension": ".py",
   "mimetype": "text/x-python",
   "name": "python",
   "nbconvert_exporter": "python",
   "pygments_lexer": "ipython3",
   "version": "3.8.8"
  }
 },
 "nbformat": 4,
 "nbformat_minor": 5
}
