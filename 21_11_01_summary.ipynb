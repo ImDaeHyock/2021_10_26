{
 "cells": [
  {
   "cell_type": "markdown",
   "id": "ffeec961",
   "metadata": {},
   "source": [
    "List와 반복문\n",
    " (: 여려개를 나타낼 수 있는 자료형)\n",
    "1. 리스트\n",
    "  : 여러가지 자료를 저장할 수 있는 자료 \n",
    "  \n",
    "list = [element1, element2, ... , ]\n",
    "*이 때 대괄호 안에는 여러 자료형이 들어갈 수 있으며, 숫자의 경우 '인덱스'라도 부른다."
   ]
  },
  {
   "cell_type": "code",
   "execution_count": 76,
   "id": "89ae6e3d",
   "metadata": {},
   "outputs": [
    {
     "data": {
      "text/plain": [
       "[3, 5, 7, 'ABCDEFG', 82]"
      ]
     },
     "execution_count": 76,
     "metadata": {},
     "output_type": "execute_result"
    }
   ],
   "source": [
    "#리스트 요소 변경하기\n",
    "list_a = [3, 5, 7, \"d\", 82]   #list_a 정의\n",
    "list_a[3] = \"ABCDEFG\"             #4번째 요소 'd'를 'D'로 변경\n",
    "list_a"
   ]
  },
  {
   "cell_type": "code",
   "execution_count": 77,
   "id": "95137e20",
   "metadata": {},
   "outputs": [
    {
     "name": "stdout",
     "output_type": "stream",
     "text": [
      "list_a의 4번째 요소:  ABCDEFG\n",
      "list_a의 4번째 요소의 세 번째 글자:  C\n"
     ]
    }
   ],
   "source": [
    "#리스트 내부 요소 중 문자열 내부의 특정 문자 추출하기\n",
    "print(\"list_a의 4번째 요소: \",list_a[3])                         # 4번째 요소를 추출\n",
    "print(\"list_a의 4번째 요소의 세 번째 글자: \",list_a[3][2])                      # 4번째 요소의 3번째 추출"
   ]
  },
  {
   "cell_type": "code",
   "execution_count": 78,
   "id": "9828f3ab",
   "metadata": {},
   "outputs": [
    {
     "name": "stdout",
     "output_type": "stream",
     "text": [
      "list_a:  [3, 5, 7, 'ABCDEFG', 82]\n",
      "list_b:  ['Apple', 'Tesla', 'MS']\n",
      "list_c:  [3, 5, 7, 'ABCDEFG', 82, 'Apple', 'Tesla', 'MS']\n",
      "list_c의 5번째 요소의 첫 번째 요소:  Apple\n"
     ]
    }
   ],
   "source": [
    "#리스트 안에 있는 리스트의 요소 추출하기\n",
    "list_b = [\"Apple\", \"Tesla\", \"MS\"]\n",
    "list_c = list_a + list_b              #list 연산, 두 list를 더한다, 합집합과 같은 개념\n",
    "print(\"list_a: \",list_a);print(\"list_b: \",list_b);print(\"list_c: \",list_c);\n",
    "print(\"list_c의 5번째 요소의 첫 번째 요소: \",list_c[5][0:5])    #list_c의 6번째 요소인 리스트의 첫 번째부터 5번째 이전의 요소추출"
   ]
  },
  {
   "cell_type": "code",
   "execution_count": 79,
   "id": "02fd4616",
   "metadata": {},
   "outputs": [
    {
     "name": "stdout",
     "output_type": "stream",
     "text": [
      "list_a:  [3, 5, 7, 'ABCDEFG', 82]\n",
      "list_a 맨 뒤에 요소 하나를 추가: [3, 5, 7, 'ABCDEFG', 82, 'added']\n",
      "----------------------\n",
      "list_b: ['Apple', 'Tesla', 'MS']\n",
      "list_b의 두 번째 위치에 요소를 추가:  ['Apple', 'Google', 'Tesla', 'MS']\n"
     ]
    }
   ],
   "source": [
    "#append와 insert, 리스트에 요소를 추가할 수 있지만 여러개가 아닌 1개만 가능하다.\n",
    "print(\"list_a: \", list_a)\n",
    "list_a.append(\"added\")\n",
    "print(\"list_a 맨 뒤에 요소 하나를 추가:\",list_a)\n",
    "print(\"----------------------\")\n",
    "print(\"list_b:\", list_b)\n",
    "list_b.insert(1,\"Google\")                        #어떤 요소를 어느 위치에 추가할지 지정할 수 있다.\n",
    "print(\"list_b의 두 번째 위치에 요소를 추가: \", list_b)"
   ]
  },
  {
   "cell_type": "code",
   "execution_count": 80,
   "id": "1dd18a3e",
   "metadata": {},
   "outputs": [
    {
     "name": "stdout",
     "output_type": "stream",
     "text": [
      "list_a= [3, 5, 7, 'ABCDEFG', 82, 'added']\n",
      "두 번째 요소가 제거된 list_a= [3, 7, 'ABCDEFG', 82, 'added']\n",
      "-----------\n",
      "4번째 요소가 제거된 list_a [3, 7, 'ABCDEFG', 'added']\n"
     ]
    }
   ],
   "source": [
    "#인덱스(del, pop)로 리스트의 요소 제거하기\n",
    "print(\"list_a=\", list_a)\n",
    "del list_a[1]                   #list_a의 두 번째 요소 제거\n",
    "print(\"두 번째 요소가 제거된 list_a=\", list_a)\n",
    "print(\"-----------\")\n",
    "list_a.pop(3)                   #pop은 인덱스를 ()안에 넣고, del을 이용해서 제거할 요소의 인덱스를 리스트 뒤에 []안에 넣는다\n",
    "print(\"4번째 요소가 제거된 list_a\",list_a)"
   ]
  },
  {
   "cell_type": "code",
   "execution_count": 81,
   "id": "488cfed4",
   "metadata": {},
   "outputs": [
    {
     "name": "stdout",
     "output_type": "stream",
     "text": [
      "list_b =  ['Apple', 'Google', 'Tesla', 'MS']\n",
      "특정 요소 하나를 제거한 list_b = ['Apple', 'Google', 'Tesla']\n"
     ]
    }
   ],
   "source": [
    "#값을 지정해서 제거\n",
    "print(\"list_b = \",list_b)\n",
    "list_b.remove(\"MS\")                                   #문자열, 숫자 상관 없이 리스트 내부의 요소를 지정하면 된다.\n",
    "print(\"특정 요소 하나를 제거한 list_b =\", list_b)"
   ]
  },
  {
   "cell_type": "code",
   "execution_count": 82,
   "id": "7ad62033",
   "metadata": {},
   "outputs": [
    {
     "name": "stdout",
     "output_type": "stream",
     "text": [
      "list_c =  [3, 5, 7, 'ABCDEFG', 82, 'Apple', 'Tesla', 'MS']\n",
      "모든 요소를 제거한 list_c []\n"
     ]
    }
   ],
   "source": [
    "#모두 제거하기 (clear)\n",
    "print(\"list_c = \", list_c)\n",
    "list_c.clear()\n",
    "print(\"모든 요소를 제거한 list_c\", list_c)"
   ]
  },
  {
   "cell_type": "code",
   "execution_count": 83,
   "id": "a88f6f56",
   "metadata": {},
   "outputs": [
    {
     "name": "stdout",
     "output_type": "stream",
     "text": [
      "list_a =  [3, 7, 'ABCDEFG', 'added']\n",
      "3은 list_a에 있습니다\n",
      "32는 list_a에 없습니다\n"
     ]
    }
   ],
   "source": [
    "#요소가 리스트에 있는지 확인해보는 in\n",
    "print(\"list_a = \", list_a)\n",
    "if 3 in list_a:                            \n",
    "    print(\"3은 list_a에 있습니다\")\n",
    "if 32 not in list_a:                       #만약 32이라는 요소가 list_a에 없다면\n",
    "    print(\"32는 list_a에 없습니다\")"
   ]
  },
  {
   "cell_type": "markdown",
   "id": "5732ddbc",
   "metadata": {},
   "source": [
    "반복문 for, list와 함께 사용\\\n",
    "반복 가능한 것\n",
    "- 문자열\n",
    "- 리스트\n",
    "- 딕셔너리\n",
    "- 범위 \n",
    "- 등"
   ]
  },
  {
   "cell_type": "code",
   "execution_count": 87,
   "id": "2a8f926c",
   "metadata": {},
   "outputs": [
    {
     "name": "stdout",
     "output_type": "stream",
     "text": [
      "list_b =  ['Apple', 'Google', 'Tesla']\n",
      "1 . Apple\n",
      "2 . Google\n",
      "3 . Tesla\n",
      "abcdefg를 순서대로 하나씩 나열하기\n",
      "- a\n",
      "- b\n",
      "- c\n",
      "- d\n",
      "- e\n",
      "- f\n",
      "- g\n"
     ]
    }
   ],
   "source": [
    "#리스트의 요소를 하나 하나 반복해서 출력\n",
    "print(\"list_b = \",list_b)\n",
    "i = 0\n",
    "for element in list_b:\n",
    "    i += 1\n",
    "    print(i,\".\",element)\n",
    "    \n",
    "#문자열 반복해서 한 개씩 출력하기\n",
    "print(\"abcdefg를 순서대로 하나씩 나열하기\")\n",
    "for character in \"abcdefg\":\n",
    "    print(\"-\", character)"
   ]
  }
 ],
 "metadata": {
  "kernelspec": {
   "display_name": "Python 3",
   "language": "python",
   "name": "python3"
  },
  "language_info": {
   "codemirror_mode": {
    "name": "ipython",
    "version": 3
   },
   "file_extension": ".py",
   "mimetype": "text/x-python",
   "name": "python",
   "nbconvert_exporter": "python",
   "pygments_lexer": "ipython3",
   "version": "3.8.8"
  }
 },
 "nbformat": 4,
 "nbformat_minor": 5
}
