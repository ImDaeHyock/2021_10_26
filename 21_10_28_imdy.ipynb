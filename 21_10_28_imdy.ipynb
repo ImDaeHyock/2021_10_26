{
 "cells": [
  {
   "cell_type": "markdown",
   "id": "3b5dcd5a",
   "metadata": {},
   "source": [
    "cell을 선택 후 키보드에서 'm'을 누르면 markdown이 되고 다시 'y'를 누르면 code가 된다."
   ]
  },
  {
   "cell_type": "markdown",
   "id": "bd7246b7",
   "metadata": {},
   "source": [
    "cell을 선택한 후 'a'를 누르면 해당 cell 앞에 새 cell이 삽입되고,"
   ]
  },
  {
   "cell_type": "markdown",
   "id": "229bae72",
   "metadata": {},
   "source": [
    " cell을 선택한 후 'b'를 누르면 해당 cell 뒤에 새 cell이 삽입된다.\n"
   ]
  },
  {
   "cell_type": "markdown",
   "id": "fca1fe2d",
   "metadata": {},
   "source": [
    "Jupyter notebook에서 실행 가능한 확장자는 '.jpynb'이다.\n",
    "\n",
    "일반 파일 확장자는 '.py'이다."
   ]
  },
  {
   "cell_type": "markdown",
   "id": "f73c6be0",
   "metadata": {},
   "source": [
    "1. 사람이 이해하기 쉬운 '프로그래밍 언어'를 '코드 실행기'를 통해 컴퓨터가 사람이 입력한 명령을 수행할 수 있도록 한다. "
   ]
  },
  {
   "cell_type": "markdown",
   "id": "fa90266c",
   "metadata": {},
   "source": [
    "2. Python의 특징\\\n",
    "  1) 직관적이고 쉽다. \\\n",
    "  2) 대부분의 운영체제에서 동일하게 사용된다\\\n",
    "  3) 상대적으로 실행에서 좀 느리다.\\\n",
    "  4) 대소문자를 구분한다.\n",
    "  \n",
    " "
   ]
  },
  {
   "cell_type": "markdown",
   "id": "f47f7fde",
   "metadata": {},
   "source": [
    "3. Notebook에서 'Ctrl+\\' : 주석 on/ off 기능을 수행한다."
   ]
  },
  {
   "cell_type": "markdown",
   "id": "d052415d",
   "metadata": {},
   "source": [
    "표현식: 어떠한 값을 만들어내는 간단한 코드, 표현식 1개 이상이 모인 것을 '문장'이라고 한다.\\\n",
    "\\\n",
    "이 문장들이 모인 것을 '프로그램'이라고 한다."
   ]
  },
  {
   "cell_type": "code",
   "execution_count": 16,
   "id": "d34a0c29",
   "metadata": {},
   "outputs": [
    {
     "name": "stdout",
     "output_type": "stream",
     "text": [
      "['False', 'None', 'True', 'and', 'as', 'assert', 'async', 'await', 'break', 'class', 'continue', 'def', 'del', 'elif', 'else', 'except', 'finally', 'for', 'from', 'global', 'if', 'import', 'in', 'is', 'lambda', 'nonlocal', 'not', 'or', 'pass', 'raise', 'return', 'try', 'while', 'with', 'yield']\n"
     ]
    }
   ],
   "source": [
    "#파이썬의 키워드를 알아봅니다.\n",
    "import keyword\n",
    "print(keyword.kwlist)"
   ]
  },
  {
   "cell_type": "markdown",
   "id": "a2558ef2",
   "metadata": {},
   "source": [
    "식별자: 프로그래밍 언어에서 이름을 붙일 때 사용하는 단어. 변수 또는 함수 이름 등에 사용.\n",
    "  1) 키워드를 사용하면 안됨\\\n",
    "  2) 특수 문자는 '_(언더바)'만 허용됨\\\n",
    "  3) 숫자로 시작하면 안됨\\\n",
    "  4) 공백을 포함할 수 없다.\n",
    "  \n",
    "  \n",
    "  *Snake case\\\n",
    "   띄어쓰기가 안되 읽기 어려움이 있어 \\\n",
    "   'itemlist >> item_list' 와 같이 활용하는 방법\n",
    "   \n",
    "   **Camel case\\\n",
    "    띄워쓰기가 안되 읽기 어려우니\\\n",
    "    'itemlist >> ItemList'와 같이 표기하는 방법이다\\\n",
    "    (식별자로 사용하려면 대문자로 시작하는 camel case여야한다.)"
   ]
  },
  {
   "cell_type": "code",
   "execution_count": 15,
   "id": "da7bc9a3",
   "metadata": {},
   "outputs": [
    {
     "name": "stdout",
     "output_type": "stream",
     "text": [
      "Hello Python!, it is 1st time.\n",
      "1\n",
      "\n",
      "안녕하세요?\n",
      "반가워요!\n",
      "처음이라\t\t\t\t멀고 낯선거예요\n",
      "\n",
      "계속 줄바꿈하기 위해 입력하기 귀찮으니\n",
      "큰 따옴표 세 개를 연속해서 사용하면 \n",
      "사용자가 괄호안에 적으며 줄 바꾼 내용 그대로 출력이 됩니다.\n"
     ]
    }
   ],
   "source": [
    "#출력, print()\n",
    "print(\"Hello Python!,\",\"it is 1st time.\")\n",
    "print(1)\n",
    "print()             #괄호 안에 아무 것도 없다면 출력시 줄바꿈만 된다.\n",
    "print(\"안녕하세요?\\n반가워요!\")   #  \\n을 사이에 넣어 출력시 줄바꿈\n",
    "print(\"처음이라\\t\\t\\t\\t멀고 낯선거예요\") # \\t를 넣어 출력시 탭이 됨.\n",
    "print()\n",
    "print(\"\"\"계속 줄바꿈하기 위해 입력하기 귀찮으니\n",
    "큰 따옴표 세 개를 연속해서 사용하면 \n",
    "사용자가 괄호안에 적으며 줄 바꾼 내용 그대로 출력이 됩니다.\"\"\")"
   ]
  },
  {
   "cell_type": "code",
   "execution_count": 39,
   "id": "a98d52c5",
   "metadata": {},
   "outputs": [
    {
     "name": "stdout",
     "output_type": "stream",
     "text": [
      "좋은오후입니다\n",
      "좋은 오후입니다\n",
      "힘내자! 힘내자! 힘내자! \n",
      "a c k bcd hij\n",
      "11\n"
     ]
    }
   ],
   "source": [
    "#연산자\n",
    "print(\"좋은\"+\"오후입니다\")   # + 연산자는 문자에서 사용가능하다. 각각의 문장을 이어준다\n",
    "print(\"좋은\"+\" 오후입니다\")\n",
    "print(\"힘내자! \"*3)           # 문자에 * 연산자를 사용하면 해당 문자를 입력한 숫자만큼 반복해서 출력\n",
    "#문자 선택 연산자 '인덱싱{[]}'\n",
    "str = \"abcdefghijk\"\n",
    "print(str[0], str[2], str[-1], str[1:4], str[-4:-1])\n",
    "\n",
    "#문자열 길이구하기\n",
    "a = len(str)\n",
    "print(a)"
   ]
  },
  {
   "cell_type": "code",
   "execution_count": 45,
   "id": "2ae2a749",
   "metadata": {},
   "outputs": [
    {
     "name": "stdout",
     "output_type": "stream",
     "text": [
      "숫자 입력:5\n",
      "숫자 입력:10\n",
      "15 -5\n",
      "문자열 입력:가나다라마\n",
      "가나다라마가나다라마가나다라마가나다라마가나다라마\n"
     ]
    }
   ],
   "source": [
    "#숫자 2개 입력 받아서 덧셈한 경우와 뺄셈한 경우를 출력,\n",
    "#이후 문자 입력을 받아 처음 입력된 숫자만큼 반복\n",
    "\n",
    "number_1 = int(input(\"숫자 입력:\"))\n",
    "number_2 = int(input(\"숫자 입력:\"))\n",
    "print(number_1+number_2, number_1-number_2)\n",
    "b = input(\"문자열 입력:\")\n",
    "print(b*number_1)"
   ]
  },
  {
   "cell_type": "code",
   "execution_count": null,
   "id": "65084495",
   "metadata": {},
   "outputs": [],
   "source": []
  }
 ],
 "metadata": {
  "kernelspec": {
   "display_name": "Python 3",
   "language": "python",
   "name": "python3"
  },
  "language_info": {
   "codemirror_mode": {
    "name": "ipython",
    "version": 3
   },
   "file_extension": ".py",
   "mimetype": "text/x-python",
   "name": "python",
   "nbconvert_exporter": "python",
   "pygments_lexer": "ipython3",
   "version": "3.8.8"
  }
 },
 "nbformat": 4,
 "nbformat_minor": 5
}
