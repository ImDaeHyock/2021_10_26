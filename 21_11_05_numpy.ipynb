{
 "cells": [
  {
   "cell_type": "code",
   "execution_count": 2,
   "id": "6c2524f7",
   "metadata": {},
   "outputs": [],
   "source": [
    "#numpy : 배열의 연산등을 쉽게 처리할 수 있게 \n",
    "\n",
    "import numpy as np"
   ]
  },
  {
   "cell_type": "code",
   "execution_count": 3,
   "id": "60845233",
   "metadata": {},
   "outputs": [
    {
     "name": "stdout",
     "output_type": "stream",
     "text": [
      "[[ 0  1  2  3  4]\n",
      " [ 5  6  7  8  9]\n",
      " [10 11 12 13 14]] <class 'numpy.ndarray'>\n",
      "----------------\n",
      "2 (3, 5) 15 int32 4\n"
     ]
    }
   ],
   "source": [
    "a = np.arange(15).reshape(3,5)\n",
    "print(a,type(a))\n",
    "print(\"----------------\")\n",
    "print(a.ndim,a.shape, a.size, a.dtype,a.dtype.itemsize)"
   ]
  },
  {
   "cell_type": "code",
   "execution_count": 4,
   "id": "74b70e54",
   "metadata": {},
   "outputs": [
    {
     "data": {
      "text/plain": [
       "array([-10. ,  -9.5,  -9. ,  -8.5,  -8. ,  -7.5,  -7. ,  -6.5,  -6. ,\n",
       "        -5.5,  -5. ,  -4.5,  -4. ,  -3.5,  -3. ,  -2.5,  -2. ,  -1.5,\n",
       "        -1. ,  -0.5,   0. ,   0.5,   1. ,   1.5,   2. ,   2.5,   3. ,\n",
       "         3.5,   4. ,   4.5])"
      ]
     },
     "execution_count": 4,
     "metadata": {},
     "output_type": "execute_result"
    }
   ],
   "source": [
    "np.arange(-10,5,0.5)          #numpy에 있는 arange를 사용.\n",
    "#np.arange(-10,5,0.5).size    #np.arange(-10,5,0.5) 의 사이즈가 나온다."
   ]
  },
  {
   "cell_type": "code",
   "execution_count": 5,
   "id": "e8e9116b",
   "metadata": {},
   "outputs": [
    {
     "data": {
      "text/plain": [
       "array([[-10. ,  -9.5,  -9. ,  -8.5,  -8. ,  -7.5],\n",
       "       [ -7. ,  -6.5,  -6. ,  -5.5,  -5. ,  -4.5],\n",
       "       [ -4. ,  -3.5,  -3. ,  -2.5,  -2. ,  -1.5],\n",
       "       [ -1. ,  -0.5,   0. ,   0.5,   1. ,   1.5],\n",
       "       [  2. ,   2.5,   3. ,   3.5,   4. ,   4.5]])"
      ]
     },
     "execution_count": 5,
     "metadata": {},
     "output_type": "execute_result"
    }
   ],
   "source": [
    "np.arange(-10,5,0.5).reshape(5,6)               #5행 6열로 만들어줌 \n",
    "                                                #대괄호로 묶인 데이터를 따로 불러다 사용 가능? 그렇다면 열도?"
   ]
  },
  {
   "cell_type": "code",
   "execution_count": 6,
   "id": "d9c4eea9",
   "metadata": {},
   "outputs": [
    {
     "name": "stdout",
     "output_type": "stream",
     "text": [
      "<class 'list'> <class 'numpy.ndarray'> [1, 2, 3, 4, 5, 6] [1 2 3 4 5 6]\n"
     ]
    },
    {
     "data": {
      "text/plain": [
       "(6,)"
      ]
     },
     "execution_count": 6,
     "metadata": {},
     "output_type": "execute_result"
    }
   ],
   "source": [
    "a_list = [1,2,3,4,5,6]\n",
    "a_array = np.array(a_list)\n",
    "print(type(a_list),type(a_array),a_list,a_array)\n",
    "a_array.shape"
   ]
  },
  {
   "cell_type": "code",
   "execution_count": 7,
   "id": "0ed9b624",
   "metadata": {},
   "outputs": [
    {
     "name": "stdout",
     "output_type": "stream",
     "text": [
      "[0. 0. 0. 0. 0.] \n",
      " \n",
      " \n",
      " [[['1' '1' '1' '1']\n",
      "  ['1' '1' '1' '1']\n",
      "  ['1' '1' '1' '1']]\n",
      "\n",
      " [['1' '1' '1' '1']\n",
      "  ['1' '1' '1' '1']\n",
      "  ['1' '1' '1' '1']]]\n"
     ]
    }
   ],
   "source": [
    "#Inf, Nan, 초기값 설정한 배열 생성\n",
    "a = np.zeros(5)\n",
    "b = np.ones((2,3,4), dtype='U4')\n",
    "print(a,\"\\n\",\"\\n\",\"\\n\",b)"
   ]
  },
  {
   "cell_type": "code",
   "execution_count": 10,
   "id": "8723af4c",
   "metadata": {},
   "outputs": [
    {
     "name": "stdout",
     "output_type": "stream",
     "text": [
      "[5 7 9]\n",
      "[[0 0]\n",
      " [2 2]]\n",
      "[1 2 3 4]\n"
     ]
    },
    {
     "ename": "ValueError",
     "evalue": "cannot reshape array of size 3 into shape (2,2)",
     "output_type": "error",
     "traceback": [
      "\u001b[1;31m---------------------------------------------------------------------------\u001b[0m",
      "\u001b[1;31mValueError\u001b[0m                                Traceback (most recent call last)",
      "\u001b[1;32m<ipython-input-10-241f321e9c84>\u001b[0m in \u001b[0;36m<module>\u001b[1;34m\u001b[0m\n\u001b[0;32m     10\u001b[0m \u001b[0mprint\u001b[0m\u001b[1;33m(\u001b[0m\u001b[0mx2\u001b[0m\u001b[1;33m+\u001b[0m\u001b[0mz1\u001b[0m\u001b[1;33m)\u001b[0m\u001b[1;33m\u001b[0m\u001b[1;33m\u001b[0m\u001b[0m\n\u001b[0;32m     11\u001b[0m \u001b[0mprint\u001b[0m\u001b[1;33m(\u001b[0m\u001b[0mx2\u001b[0m\u001b[1;33m.\u001b[0m\u001b[0mflatten\u001b[0m\u001b[1;33m(\u001b[0m\u001b[1;33m)\u001b[0m\u001b[1;33m)\u001b[0m\u001b[1;33m\u001b[0m\u001b[1;33m\u001b[0m\u001b[0m\n\u001b[1;32m---> 12\u001b[1;33m \u001b[0mprint\u001b[0m\u001b[1;33m(\u001b[0m\u001b[0mx1\u001b[0m\u001b[1;33m.\u001b[0m\u001b[0mreshape\u001b[0m\u001b[1;33m(\u001b[0m\u001b[1;36m2\u001b[0m\u001b[1;33m,\u001b[0m\u001b[1;36m2\u001b[0m\u001b[1;33m)\u001b[0m\u001b[1;33m)\u001b[0m \u001b[1;31m#reshape은 배열을 다시 재배치\u001b[0m\u001b[1;33m\u001b[0m\u001b[1;33m\u001b[0m\u001b[0m\n\u001b[0m",
      "\u001b[1;31mValueError\u001b[0m: cannot reshape array of size 3 into shape (2,2)"
     ]
    }
   ],
   "source": [
    "#array 연산\n",
    "\n",
    "x1 = np.array([1,2,3])\n",
    "y1 = np.array([4,5,6])\n",
    "x2 = np.array([[1,2],[3,4]])\n",
    "z1 = np.array([-1,-2])\n",
    "\n",
    "\n",
    "print(x1+y1)\n",
    "print(x2+z1)\n",
    "print(x2.flatten())\n",
    "print(x1.reshape(2,2)) #reshape은 배열을 다시 재배치\n"
   ]
  },
  {
   "cell_type": "code",
   "execution_count": 12,
   "id": "21e3dc35",
   "metadata": {},
   "outputs": [
    {
     "name": "stdout",
     "output_type": "stream",
     "text": [
      "[ 0  1  4  9 16 25 36 49 64 81]\n",
      "4\n",
      "[ 9 16]\n",
      "[  0  -4 -16]\n",
      "[  0  -4 -16]\n",
      "[[  0   1  -4   9 -16]\n",
      " [ 25  36  49  64  81]]\n",
      "[-16  81]\n",
      "81\n"
     ]
    }
   ],
   "source": [
    "#indexing, slicing, iterating\n",
    "\n",
    "a = np.arange(10)**2\n",
    "print(a)\n",
    "print(a[2])   #0 index부터 시작, 4\n",
    "print(a[3:5]) # 9, 16 => 시작은 포함 끝은 미포함\n",
    "print(-a[0:6:2])  # [start : end : step]\n",
    "a[0 : 6 : 2] = -a[0 : 6 : 2]\n",
    "print(a[0:6:2])\n",
    "a[ : : -1]   #reverse a\n",
    "\n",
    "\n",
    "b = a.reshape(2,5)\n",
    "print(b)\n",
    "print(b[:,-1])\n",
    "print(b[-1,-1])"
   ]
  },
  {
   "cell_type": "code",
   "execution_count": 13,
   "id": "6af02898",
   "metadata": {},
   "outputs": [
    {
     "name": "stdout",
     "output_type": "stream",
     "text": [
      "[4 6 9]\n"
     ]
    }
   ],
   "source": [
    "import numpy as np\n",
    "\n",
    "a = np.array([[2,3,4],[4,5,6],[7,8,9]])\n",
    "print(np.max(a, axis=1))              #axis = 0 (행), 1 (열)"
   ]
  },
  {
   "cell_type": "code",
   "execution_count": 15,
   "id": "e43b7b72",
   "metadata": {},
   "outputs": [
    {
     "name": "stdout",
     "output_type": "stream",
     "text": [
      "3.0 4.888888888888889 5.0 3 9\n"
     ]
    }
   ],
   "source": [
    "print(np.mean(a[0]),np.var(a),np.median(a), len(a), a.size)"
   ]
  },
  {
   "cell_type": "code",
   "execution_count": 36,
   "id": "52bdaf26",
   "metadata": {},
   "outputs": [
    {
     "data": {
      "text/plain": [
       "array([0.54340494, 0.27836939, 0.42451759, 0.84477613, 0.00471886])"
      ]
     },
     "execution_count": 36,
     "metadata": {},
     "output_type": "execute_result"
    }
   ],
   "source": [
    "np.random.seed(100)          #seed로 고정\n",
    "np.random.rand(5)            #랜덤 돌려도 동일한 값 도출"
   ]
  },
  {
   "cell_type": "code",
   "execution_count": 37,
   "id": "06dc8936",
   "metadata": {},
   "outputs": [
    {
     "data": {
      "text/plain": [
       "array([3, 0, 4])"
      ]
     },
     "execution_count": 37,
     "metadata": {},
     "output_type": "execute_result"
    }
   ],
   "source": [
    "np.random.choice(5,3, replace = False)"
   ]
  },
  {
   "cell_type": "code",
   "execution_count": 48,
   "id": "e701a986",
   "metadata": {},
   "outputs": [
    {
     "name": "stdout",
     "output_type": "stream",
     "text": [
      "[ 3  6  9 12 15 18]\n",
      "[ 1  5  9 13 17]\n",
      "[9]\n",
      "[9]\n"
     ]
    },
    {
     "name": "stderr",
     "output_type": "stream",
     "text": [
      "<ipython-input-48-325c3e180993>:4: FutureWarning: Using a non-tuple sequence for multidimensional indexing is deprecated; use `arr[tuple(seq)]` instead of `arr[seq]`. In the future this will be interpreted as an array index, `arr[np.array(seq)]`, which will result either in an error or a different result.\n",
      "  a1= x[[x%3 == 0]]\n",
      "<ipython-input-48-325c3e180993>:5: FutureWarning: Using a non-tuple sequence for multidimensional indexing is deprecated; use `arr[tuple(seq)]` instead of `arr[seq]`. In the future this will be interpreted as an array index, `arr[np.array(seq)]`, which will result either in an error or a different result.\n",
      "  a2= a1[[a1%4 == 1]]\n"
     ]
    }
   ],
   "source": [
    "x = np.array([1,2,3,4,5,6,7,8,9,10,11,12,13,14,15,16,17,18,19,20])\n",
    "print(x[x%3 == 0])                 #배열에서 3의배수 찾기\n",
    "print(x[x%4 == 1])                 #배열에서 4로 나눌 때 1이 남는 수\n",
    "a1= x[[x%3 == 0]]\n",
    "a2= a1[[a1%4 == 1]]\n",
    "   \n",
    "print(x[(x%3==0) & (x%4==1)])       #패키지마다 지원되는게 달라서 and가 안될 수가 있음    & : and, |: or \n",
    "print(a2)                           #배열에서 3으로 나눠지면서 4로 나눴을 때 나머지가 1인 수"
   ]
  },
  {
   "cell_type": "code",
   "execution_count": 68,
   "id": "c9f13396",
   "metadata": {},
   "outputs": [
    {
     "name": "stdout",
     "output_type": "stream",
     "text": [
      "1에서 100까지의 수 \n",
      " [[  1   2   3   4   5   6   7   8   9  10]\n",
      " [ 11  12  13  14  15  16  17  18  19  20]\n",
      " [ 21  22  23  24  25  26  27  28  29  30]\n",
      " [ 31  32  33  34  35  36  37  38  39  40]\n",
      " [ 41  42  43  44  45  46  47  48  49  50]\n",
      " [ 51  52  53  54  55  56  57  58  59  60]\n",
      " [ 61  62  63  64  65  66  67  68  69  70]\n",
      " [ 71  72  73  74  75  76  77  78  79  80]\n",
      " [ 81  82  83  84  85  86  87  88  89  90]\n",
      " [ 91  92  93  94  95  96  97  98  99 100]]\n",
      "----------------------------- \n",
      " -----------------------------\n",
      "1에서 100까지 중 3의 배수인 수: \n",
      " [ 3  6  9 12 15 18 21 24 27 30 33 36 39 42 45 48 51 54 57 60 63 66 69 72\n",
      " 75 78 81 84 87 90 93 96 99]\n"
     ]
    }
   ],
   "source": [
    "#1부터 100까지의 숫자들 중에서 3의 배수만 배열로 생성\n",
    "a= np.arange(101)\n",
    "x1 = a[1:]\n",
    "x2 = x1.reshape(10,10)\n",
    "print(\"1에서 100까지의 수\",\"\\n\",x2)\n",
    "print(\"-----------------------------\",\"\\n\",\"-----------------------------\")\n",
    "print(\"1에서 100까지 중 3의 배수인 수:\",\"\\n\",x2[x2 % 3 == 0])"
   ]
  },
  {
   "cell_type": "code",
   "execution_count": 76,
   "id": "f9ea8228",
   "metadata": {},
   "outputs": [
    {
     "name": "stdout",
     "output_type": "stream",
     "text": [
      "arr: [ 3  6  9 12 15 18 21 24 27 30 33 36 39 42 45 48 51 54 57 60 63 66 69 72\n",
      " 75 78 81 84 87 90 93 96 99]\n",
      "임의의 수 5개를 출력: [96 87 15 69 21]\n",
      "5의 배수만 출력:  [15 30 45 60 75 90]\n"
     ]
    }
   ],
   "source": [
    "arr = np.arange(1,101)\n",
    "arr = arr[arr % 3 == 0]\n",
    "print(\"arr:\", arr)\n",
    "\n",
    "#위에서 생성된 배열의 값 중에서 임의로 5개의 값을 출력\n",
    "print(\"임의의 수 5개를 출력:\",np.random.choice(arr, 5, replace = False))         #replace : 중복해서 쓰지 않기 위해 \n",
    "#위의 배열의 사이즈를 확인한 후 행이 3인 2차원 배열을 생성\n",
    "arr_1 = arr.reshape(3,int(arr.size/3))\n",
    "#배열의 원소중에서 5의 배수만 출력\n",
    "print(\"5의 배수만 출력: \",arr_1[arr_1%5 ==0])"
   ]
  }
 ],
 "metadata": {
  "kernelspec": {
   "display_name": "Python 3",
   "language": "python",
   "name": "python3"
  },
  "language_info": {
   "codemirror_mode": {
    "name": "ipython",
    "version": 3
   },
   "file_extension": ".py",
   "mimetype": "text/x-python",
   "name": "python",
   "nbconvert_exporter": "python",
   "pygments_lexer": "ipython3",
   "version": "3.8.8"
  }
 },
 "nbformat": 4,
 "nbformat_minor": 5
}
