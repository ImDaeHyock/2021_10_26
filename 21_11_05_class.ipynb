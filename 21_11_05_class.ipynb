{
 "cells": [
  {
   "cell_type": "code",
   "execution_count": 1,
   "id": "e0298dd9",
   "metadata": {},
   "outputs": [
    {
     "name": "stdout",
     "output_type": "stream",
     "text": [
      "공부를 합니다.\n",
      "공부를 합니다.\n",
      "학생을 가르칩니다.\n",
      "공부를 합니다.\n",
      "공부를 합니다.\n"
     ]
    }
   ],
   "source": [
    "class Student:             # __init__ 는 이 클래스에서는 매개변수가 없음에 필요가 없다.\n",
    "    def study(self):\n",
    "        print(\"공부를 합니다.\")\n",
    "\n",
    "# 선생님 클래스를 선언합니다.\n",
    "class Teacher:\n",
    "    def teach(self):\n",
    "        print(\"학생을 가르칩니다.\")\n",
    "\n",
    "# 교실 내부의 객체 리스트를 생성합니다.\n",
    "classroom = [Student(), Student(), Teacher(), Student(), Student()]\n",
    "\n",
    "# 반복을 적용해서 적절한 함수를 호출하게 합니다.\n",
    "for person in classroom:\n",
    "    if isinstance(person, Student):               #isinstance(인스턴스, 클래스명)\n",
    "        person.study()                            #person에 study() 클래스를 적용.\n",
    "    elif isinstance(person, Teacher):\n",
    "        person.teach()\n",
    "        "
   ]
  },
  {
   "cell_type": "code",
   "execution_count": 22,
   "id": "01d40982",
   "metadata": {},
   "outputs": [],
   "source": [
    "#클래스로 실체를 만든건 인스턴트\n",
    "\n",
    "#class 로 학생 정보 생성\n",
    "class Student:                                            #Student라는 class를 만듬. \n",
    "    def __init__(self, name, korean, math, english, science):\n",
    "        self.name = name\n",
    "        self.korean = korean\n",
    "        self.math = math\n",
    "        self.english = english\n",
    "        self.science = science\n",
    "    def get_sum(self):\n",
    "        return self.korean + self.math + self.english + self.science\n",
    "    def get_avg(self):\n",
    "        return self.get_sum()/4\n",
    "    def __str__(self):                                                    #문자열로 출력하는 부분을 정의한 곳.\n",
    "        return \"{}\\t{}\\t{}\\t{}\\t{}\\t{}\\t{}\".format(self.name,self.get_sum(),\n",
    "                                                   self.get_avg(),self.korean,\n",
    "                                                   self.math,self.english,self.science)"
   ]
  },
  {
   "cell_type": "code",
   "execution_count": 23,
   "id": "0a4bb09c",
   "metadata": {},
   "outputs": [],
   "source": [
    "students =[\n",
    "    Student(\"윤인성\", 87, 98, 88, 95),\n",
    "    Student(\"연하진\", 92,  98,  96, 98),\n",
    "    Student(\"구지연\", 76,  96,  94, 90 ),\n",
    "    Student(\"나선주\", 98,  92, 96, 92),\n",
    "    Student(\"윤아린\", 95,  98,  98,  98),\n",
    "    Student(\"윤명월\", 64,  88, 92,  92)\n",
    "]\n",
    "\n"
   ]
  },
  {
   "cell_type": "code",
   "execution_count": 24,
   "id": "0ed27dd5",
   "metadata": {},
   "outputs": [
    {
     "name": "stdout",
     "output_type": "stream",
     "text": [
      "윤인성\t368\t92.0\t87\t98\t88\t95\n",
      "연하진\t384\t96.0\t92\t98\t96\t98\n",
      "구지연\t356\t89.0\t76\t96\t94\t90\n",
      "나선주\t378\t94.5\t98\t92\t96\t92\n",
      "윤아린\t389\t97.25\t95\t98\t98\t98\n",
      "윤명월\t336\t84.0\t64\t88\t92\t92\n"
     ]
    }
   ],
   "source": [
    "for student in students:\n",
    "    print(str(student))"
   ]
  },
  {
   "cell_type": "code",
   "execution_count": null,
   "id": "3526c0f3",
   "metadata": {},
   "outputs": [],
   "source": [
    "class Student:\n",
    "    count = 0 \n",
    "    \n",
    "    def __init__(self,name, score)"
   ]
  },
  {
   "cell_type": "code",
   "execution_count": 29,
   "id": "c7d888b1",
   "metadata": {},
   "outputs": [
    {
     "name": "stdout",
     "output_type": "stream",
     "text": [
      "원의 둘레: 62.83185307179586\n",
      "원의 넓이: 314.1592653589793\n",
      "10\n"
     ]
    }
   ],
   "source": [
    "import math\n",
    "\n",
    "# 클래스를 선언합니다.\n",
    "class Circle:\n",
    "    def __init__(self, radius):\n",
    "        self.__radius = radius         #__변수명: private 변수\n",
    "    def get_circumference(self):\n",
    "        return 2 * math.pi * self.__radius               #math.pi는 파이썬에서 지원하는 값\n",
    "    def get_area(self):\n",
    "        return math.pi * (self.__radius ** 2)\n",
    "    def get_radius(self):\n",
    "        return self.__radius   #getter\n",
    "    \n",
    "# 원의 둘레와 넓이를 구합니다.\n",
    "circle = Circle(10)\n",
    "print(\"원의 둘레:\", circle.get_circumference())\n",
    "print(\"원의 넓이:\", circle.get_area())\n",
    "print(circle.get_radius())                 #radius만 넣으면 외부에서 접근 불가능: radius를 private 변수로 바꿨기에 접근 불가."
   ]
  },
  {
   "cell_type": "code",
   "execution_count": 32,
   "id": "f1cffb67",
   "metadata": {},
   "outputs": [
    {
     "name": "stdout",
     "output_type": "stream",
     "text": [
      "원의 둘레: 62.83185307179586\n",
      "원의 넓이: 314.1592653589793\n",
      "10\n",
      "20\n"
     ]
    }
   ],
   "source": [
    "import math\n",
    "\n",
    "# 클래스를 선언합니다.\n",
    "class Circle:\n",
    "    def __init__(self, radius):\n",
    "        self.__radius = radius         #__변수명: private 변수\n",
    "    def get_circumference(self):\n",
    "        return 2 * math.pi * self.__radius               #math.pi는 파이썬에서 지원하는 값\n",
    "    def get_area(self):\n",
    "        return math.pi * (self.__radius ** 2)\n",
    "    def get_radius(self):\n",
    "        return self.__radius   #getter\n",
    "    def set_radius(self,value):\n",
    "        self.__radius = value    #setter\n",
    "    \n",
    "# 원의 둘레와 넓이를 구합니다.\n",
    "circle = Circle(10)\n",
    "print(\"원의 둘레:\", circle.get_circumference())\n",
    "print(\"원의 넓이:\", circle.get_area())\n",
    "print(circle.get_radius())                 #radius만 넣으면 외부에서 접근 불가능: radius를 private 변수로 바꿨기에 접근 불가.\n",
    "circle.set_radius(20)\n",
    "print(circle.get_radius())"
   ]
  },
  {
   "cell_type": "code",
   "execution_count": 33,
   "id": "9bd35abf",
   "metadata": {},
   "outputs": [
    {
     "name": "stdout",
     "output_type": "stream",
     "text": [
      "class 생성\n",
      "class 내부 함수 실행\n",
      "10 20 30\n",
      "class 생성\n",
      "class 내부 함수 실행\n",
      "20 30 50\n"
     ]
    }
   ],
   "source": [
    "class Aclass:\n",
    "    def __init__(self,num1,num2):         #생성자 실행시 자동으로 실행\n",
    "        self.num1 = num1\n",
    "        self.num2 = num2\n",
    "        print(\"class 생성\")\n",
    "    \n",
    "    def __del__(self):  #프로그램종료시 자동으로 실행\n",
    "        print(\"class 소멸\")\n",
    "        \n",
    "    def get_sum(self):\n",
    "        print(\"class 내부 함수 실행\")\n",
    "        return (self.num1 + self.num2)\n",
    "    \n",
    "a = Aclass(10,20)         #생성자, -> class 내부의 __init__ 함수가 실행\n",
    "print(a.num1, a.num2,a.get_sum())                         #a에다가 get_sum을 적용한 것을 출력: a.get_sum()\n",
    "b= Aclass(20,30)\n",
    "print(b.num1, b.num2, b.get_sum())\n",
    "\n",
    "\n",
    "    "
   ]
  }
 ],
 "metadata": {
  "kernelspec": {
   "display_name": "Python 3",
   "language": "python",
   "name": "python3"
  },
  "language_info": {
   "codemirror_mode": {
    "name": "ipython",
    "version": 3
   },
   "file_extension": ".py",
   "mimetype": "text/x-python",
   "name": "python",
   "nbconvert_exporter": "python",
   "pygments_lexer": "ipython3",
   "version": "3.8.8"
  }
 },
 "nbformat": 4,
 "nbformat_minor": 5
}
